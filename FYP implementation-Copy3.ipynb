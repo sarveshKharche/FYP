{
 "cells": [
  {
   "cell_type": "code",
   "execution_count": 1,
   "metadata": {},
   "outputs": [],
   "source": [
    "import pandas as pd\n",
    "pd.set_option('display.max_columns', None)\n",
    "pd.set_option('display.max_rows', None)"
   ]
  },
  {
   "cell_type": "code",
   "execution_count": 2,
   "metadata": {},
   "outputs": [],
   "source": [
    "import pandas as pd\n",
    "import numpy as np\n",
    "import matplotlib.pyplot as plt\n",
    "import seaborn as sns\n",
    "# Set the styles to Seaborn\n",
    "sns.set()\n",
    "# Import the KMeans module so we can perform k-means clustering with sklearn\n",
    "from sklearn.cluster import KMeans"
   ]
  },
  {
   "cell_type": "code",
   "execution_count": 3,
   "metadata": {},
   "outputs": [
    {
     "data": {
      "text/html": [
       "<div>\n",
       "<style scoped>\n",
       "    .dataframe tbody tr th:only-of-type {\n",
       "        vertical-align: middle;\n",
       "    }\n",
       "\n",
       "    .dataframe tbody tr th {\n",
       "        vertical-align: top;\n",
       "    }\n",
       "\n",
       "    .dataframe thead th {\n",
       "        text-align: right;\n",
       "    }\n",
       "</style>\n",
       "<table border=\"1\" class=\"dataframe\">\n",
       "  <thead>\n",
       "    <tr style=\"text-align: right;\">\n",
       "      <th></th>\n",
       "      <th>Unnamed: 0</th>\n",
       "      <th>match_id</th>\n",
       "      <th>season</th>\n",
       "      <th>team1</th>\n",
       "      <th>team2</th>\n",
       "      <th>winner</th>\n",
       "      <th>result</th>\n",
       "      <th>inning</th>\n",
       "      <th>batting_team</th>\n",
       "      <th>bowling_team</th>\n",
       "      <th>over</th>\n",
       "      <th>ball</th>\n",
       "      <th>is_super_over</th>\n",
       "      <th>batsman</th>\n",
       "      <th>non_striker</th>\n",
       "      <th>batsman strike rate</th>\n",
       "      <th>batsman average</th>\n",
       "      <th>bowler</th>\n",
       "      <th>bowler strike rate</th>\n",
       "      <th>bowler average</th>\n",
       "      <th>bowler economy rate</th>\n",
       "      <th>wide_runs</th>\n",
       "      <th>bye_runs</th>\n",
       "      <th>legbye_runs</th>\n",
       "      <th>noball_runs</th>\n",
       "      <th>penalty_runs</th>\n",
       "      <th>batsman_runs</th>\n",
       "      <th>extra_runs</th>\n",
       "      <th>total_runs</th>\n",
       "      <th>player_dismissed</th>\n",
       "      <th>dl_applied</th>\n",
       "    </tr>\n",
       "  </thead>\n",
       "  <tbody>\n",
       "    <tr>\n",
       "      <th>0</th>\n",
       "      <td>0</td>\n",
       "      <td>1</td>\n",
       "      <td>2017</td>\n",
       "      <td>Sunrisers Hyderabad</td>\n",
       "      <td>Royal Challengers Bangalore</td>\n",
       "      <td>Sunrisers Hyderabad</td>\n",
       "      <td>normal</td>\n",
       "      <td>1</td>\n",
       "      <td>Sunrisers Hyderabad</td>\n",
       "      <td>Royal Challengers Bangalore</td>\n",
       "      <td>1</td>\n",
       "      <td>1</td>\n",
       "      <td>0</td>\n",
       "      <td>DA Warner</td>\n",
       "      <td>S Dhawan</td>\n",
       "      <td>145.696667</td>\n",
       "      <td>62.68</td>\n",
       "      <td>TS Mills</td>\n",
       "      <td>21.4</td>\n",
       "      <td>30.6</td>\n",
       "      <td>8.57</td>\n",
       "      <td>0</td>\n",
       "      <td>0</td>\n",
       "      <td>0</td>\n",
       "      <td>0</td>\n",
       "      <td>0</td>\n",
       "      <td>0</td>\n",
       "      <td>0</td>\n",
       "      <td>0</td>\n",
       "      <td>0</td>\n",
       "      <td>0</td>\n",
       "    </tr>\n",
       "    <tr>\n",
       "      <th>1</th>\n",
       "      <td>1</td>\n",
       "      <td>1</td>\n",
       "      <td>2017</td>\n",
       "      <td>Sunrisers Hyderabad</td>\n",
       "      <td>Royal Challengers Bangalore</td>\n",
       "      <td>Sunrisers Hyderabad</td>\n",
       "      <td>normal</td>\n",
       "      <td>1</td>\n",
       "      <td>Sunrisers Hyderabad</td>\n",
       "      <td>Royal Challengers Bangalore</td>\n",
       "      <td>1</td>\n",
       "      <td>2</td>\n",
       "      <td>0</td>\n",
       "      <td>DA Warner</td>\n",
       "      <td>S Dhawan</td>\n",
       "      <td>145.696667</td>\n",
       "      <td>62.68</td>\n",
       "      <td>TS Mills</td>\n",
       "      <td>21.4</td>\n",
       "      <td>30.6</td>\n",
       "      <td>8.57</td>\n",
       "      <td>0</td>\n",
       "      <td>0</td>\n",
       "      <td>0</td>\n",
       "      <td>0</td>\n",
       "      <td>0</td>\n",
       "      <td>0</td>\n",
       "      <td>0</td>\n",
       "      <td>0</td>\n",
       "      <td>0</td>\n",
       "      <td>0</td>\n",
       "    </tr>\n",
       "    <tr>\n",
       "      <th>2</th>\n",
       "      <td>2</td>\n",
       "      <td>1</td>\n",
       "      <td>2017</td>\n",
       "      <td>Sunrisers Hyderabad</td>\n",
       "      <td>Royal Challengers Bangalore</td>\n",
       "      <td>Sunrisers Hyderabad</td>\n",
       "      <td>normal</td>\n",
       "      <td>1</td>\n",
       "      <td>Sunrisers Hyderabad</td>\n",
       "      <td>Royal Challengers Bangalore</td>\n",
       "      <td>1</td>\n",
       "      <td>3</td>\n",
       "      <td>0</td>\n",
       "      <td>DA Warner</td>\n",
       "      <td>S Dhawan</td>\n",
       "      <td>145.696667</td>\n",
       "      <td>62.68</td>\n",
       "      <td>TS Mills</td>\n",
       "      <td>21.4</td>\n",
       "      <td>30.6</td>\n",
       "      <td>8.57</td>\n",
       "      <td>0</td>\n",
       "      <td>0</td>\n",
       "      <td>0</td>\n",
       "      <td>0</td>\n",
       "      <td>0</td>\n",
       "      <td>4</td>\n",
       "      <td>0</td>\n",
       "      <td>4</td>\n",
       "      <td>0</td>\n",
       "      <td>0</td>\n",
       "    </tr>\n",
       "    <tr>\n",
       "      <th>3</th>\n",
       "      <td>3</td>\n",
       "      <td>1</td>\n",
       "      <td>2017</td>\n",
       "      <td>Sunrisers Hyderabad</td>\n",
       "      <td>Royal Challengers Bangalore</td>\n",
       "      <td>Sunrisers Hyderabad</td>\n",
       "      <td>normal</td>\n",
       "      <td>1</td>\n",
       "      <td>Sunrisers Hyderabad</td>\n",
       "      <td>Royal Challengers Bangalore</td>\n",
       "      <td>1</td>\n",
       "      <td>4</td>\n",
       "      <td>0</td>\n",
       "      <td>DA Warner</td>\n",
       "      <td>S Dhawan</td>\n",
       "      <td>145.696667</td>\n",
       "      <td>62.68</td>\n",
       "      <td>TS Mills</td>\n",
       "      <td>21.4</td>\n",
       "      <td>30.6</td>\n",
       "      <td>8.57</td>\n",
       "      <td>0</td>\n",
       "      <td>0</td>\n",
       "      <td>0</td>\n",
       "      <td>0</td>\n",
       "      <td>0</td>\n",
       "      <td>0</td>\n",
       "      <td>0</td>\n",
       "      <td>0</td>\n",
       "      <td>0</td>\n",
       "      <td>0</td>\n",
       "    </tr>\n",
       "    <tr>\n",
       "      <th>4</th>\n",
       "      <td>4</td>\n",
       "      <td>1</td>\n",
       "      <td>2017</td>\n",
       "      <td>Sunrisers Hyderabad</td>\n",
       "      <td>Royal Challengers Bangalore</td>\n",
       "      <td>Sunrisers Hyderabad</td>\n",
       "      <td>normal</td>\n",
       "      <td>1</td>\n",
       "      <td>Sunrisers Hyderabad</td>\n",
       "      <td>Royal Challengers Bangalore</td>\n",
       "      <td>1</td>\n",
       "      <td>5</td>\n",
       "      <td>0</td>\n",
       "      <td>DA Warner</td>\n",
       "      <td>S Dhawan</td>\n",
       "      <td>145.696667</td>\n",
       "      <td>62.68</td>\n",
       "      <td>TS Mills</td>\n",
       "      <td>21.4</td>\n",
       "      <td>30.6</td>\n",
       "      <td>8.57</td>\n",
       "      <td>2</td>\n",
       "      <td>0</td>\n",
       "      <td>0</td>\n",
       "      <td>0</td>\n",
       "      <td>0</td>\n",
       "      <td>0</td>\n",
       "      <td>2</td>\n",
       "      <td>2</td>\n",
       "      <td>0</td>\n",
       "      <td>0</td>\n",
       "    </tr>\n",
       "  </tbody>\n",
       "</table>\n",
       "</div>"
      ],
      "text/plain": [
       "   Unnamed: 0  match_id  season                team1  \\\n",
       "0           0         1    2017  Sunrisers Hyderabad   \n",
       "1           1         1    2017  Sunrisers Hyderabad   \n",
       "2           2         1    2017  Sunrisers Hyderabad   \n",
       "3           3         1    2017  Sunrisers Hyderabad   \n",
       "4           4         1    2017  Sunrisers Hyderabad   \n",
       "\n",
       "                         team2               winner  result  inning  \\\n",
       "0  Royal Challengers Bangalore  Sunrisers Hyderabad  normal       1   \n",
       "1  Royal Challengers Bangalore  Sunrisers Hyderabad  normal       1   \n",
       "2  Royal Challengers Bangalore  Sunrisers Hyderabad  normal       1   \n",
       "3  Royal Challengers Bangalore  Sunrisers Hyderabad  normal       1   \n",
       "4  Royal Challengers Bangalore  Sunrisers Hyderabad  normal       1   \n",
       "\n",
       "          batting_team                 bowling_team  over  ball  \\\n",
       "0  Sunrisers Hyderabad  Royal Challengers Bangalore     1     1   \n",
       "1  Sunrisers Hyderabad  Royal Challengers Bangalore     1     2   \n",
       "2  Sunrisers Hyderabad  Royal Challengers Bangalore     1     3   \n",
       "3  Sunrisers Hyderabad  Royal Challengers Bangalore     1     4   \n",
       "4  Sunrisers Hyderabad  Royal Challengers Bangalore     1     5   \n",
       "\n",
       "   is_super_over    batsman non_striker  batsman strike rate  batsman average  \\\n",
       "0              0  DA Warner    S Dhawan           145.696667            62.68   \n",
       "1              0  DA Warner    S Dhawan           145.696667            62.68   \n",
       "2              0  DA Warner    S Dhawan           145.696667            62.68   \n",
       "3              0  DA Warner    S Dhawan           145.696667            62.68   \n",
       "4              0  DA Warner    S Dhawan           145.696667            62.68   \n",
       "\n",
       "     bowler  bowler strike rate  bowler average  bowler economy rate  \\\n",
       "0  TS Mills                21.4            30.6                 8.57   \n",
       "1  TS Mills                21.4            30.6                 8.57   \n",
       "2  TS Mills                21.4            30.6                 8.57   \n",
       "3  TS Mills                21.4            30.6                 8.57   \n",
       "4  TS Mills                21.4            30.6                 8.57   \n",
       "\n",
       "   wide_runs  bye_runs  legbye_runs  noball_runs  penalty_runs  batsman_runs  \\\n",
       "0          0         0            0            0             0             0   \n",
       "1          0         0            0            0             0             0   \n",
       "2          0         0            0            0             0             4   \n",
       "3          0         0            0            0             0             0   \n",
       "4          2         0            0            0             0             0   \n",
       "\n",
       "   extra_runs  total_runs  player_dismissed  dl_applied  \n",
       "0           0           0                 0           0  \n",
       "1           0           0                 0           0  \n",
       "2           0           4                 0           0  \n",
       "3           0           0                 0           0  \n",
       "4           2           2                 0           0  "
      ]
     },
     "execution_count": 3,
     "metadata": {},
     "output_type": "execute_result"
    }
   ],
   "source": [
    "playerIntData = pd.read_csv('FYP_final_dataset.csv')\n",
    "playerIntData.head()"
   ]
  },
  {
   "cell_type": "code",
   "execution_count": 4,
   "metadata": {},
   "outputs": [
    {
     "data": {
      "text/plain": [
       "Index(['Unnamed: 0', 'match_id', 'season', 'team1', 'team2', 'winner',\n",
       "       'result', 'inning', 'batting_team', 'bowling_team', 'over', 'ball',\n",
       "       'is_super_over', 'batsman', 'non_striker', 'batsman strike rate',\n",
       "       'batsman average', 'bowler', 'bowler strike rate', 'bowler average',\n",
       "       'bowler economy rate', 'wide_runs', 'bye_runs', 'legbye_runs',\n",
       "       'noball_runs', 'penalty_runs', 'batsman_runs', 'extra_runs',\n",
       "       'total_runs', 'player_dismissed', 'dl_applied'],\n",
       "      dtype='object')"
      ]
     },
     "execution_count": 4,
     "metadata": {},
     "output_type": "execute_result"
    }
   ],
   "source": [
    "playerIntData.columns"
   ]
  },
  {
   "cell_type": "code",
   "execution_count": 5,
   "metadata": {},
   "outputs": [],
   "source": [
    "playerIntData = playerIntData.drop(['Unnamed: 0', 'match_id', 'team1', 'team2','wide_runs', 'bye_runs','legbye_runs', 'noball_runs', 'penalty_runs', 'batsman_runs', 'extra_runs'],axis=1)"
   ]
  },
  {
   "cell_type": "code",
   "execution_count": 6,
   "metadata": {},
   "outputs": [
    {
     "data": {
      "text/html": [
       "<div>\n",
       "<style scoped>\n",
       "    .dataframe tbody tr th:only-of-type {\n",
       "        vertical-align: middle;\n",
       "    }\n",
       "\n",
       "    .dataframe tbody tr th {\n",
       "        vertical-align: top;\n",
       "    }\n",
       "\n",
       "    .dataframe thead th {\n",
       "        text-align: right;\n",
       "    }\n",
       "</style>\n",
       "<table border=\"1\" class=\"dataframe\">\n",
       "  <thead>\n",
       "    <tr style=\"text-align: right;\">\n",
       "      <th></th>\n",
       "      <th>season</th>\n",
       "      <th>winner</th>\n",
       "      <th>result</th>\n",
       "      <th>inning</th>\n",
       "      <th>batting_team</th>\n",
       "      <th>bowling_team</th>\n",
       "      <th>over</th>\n",
       "      <th>ball</th>\n",
       "      <th>is_super_over</th>\n",
       "      <th>batsman</th>\n",
       "      <th>non_striker</th>\n",
       "      <th>batsman strike rate</th>\n",
       "      <th>batsman average</th>\n",
       "      <th>bowler</th>\n",
       "      <th>bowler strike rate</th>\n",
       "      <th>bowler average</th>\n",
       "      <th>bowler economy rate</th>\n",
       "      <th>total_runs</th>\n",
       "      <th>player_dismissed</th>\n",
       "      <th>dl_applied</th>\n",
       "    </tr>\n",
       "  </thead>\n",
       "  <tbody>\n",
       "    <tr>\n",
       "      <th>0</th>\n",
       "      <td>2017</td>\n",
       "      <td>Sunrisers Hyderabad</td>\n",
       "      <td>normal</td>\n",
       "      <td>1</td>\n",
       "      <td>Sunrisers Hyderabad</td>\n",
       "      <td>Royal Challengers Bangalore</td>\n",
       "      <td>1</td>\n",
       "      <td>1</td>\n",
       "      <td>0</td>\n",
       "      <td>DA Warner</td>\n",
       "      <td>S Dhawan</td>\n",
       "      <td>145.696667</td>\n",
       "      <td>62.68</td>\n",
       "      <td>TS Mills</td>\n",
       "      <td>21.4</td>\n",
       "      <td>30.6</td>\n",
       "      <td>8.57</td>\n",
       "      <td>0</td>\n",
       "      <td>0</td>\n",
       "      <td>0</td>\n",
       "    </tr>\n",
       "    <tr>\n",
       "      <th>1</th>\n",
       "      <td>2017</td>\n",
       "      <td>Sunrisers Hyderabad</td>\n",
       "      <td>normal</td>\n",
       "      <td>1</td>\n",
       "      <td>Sunrisers Hyderabad</td>\n",
       "      <td>Royal Challengers Bangalore</td>\n",
       "      <td>1</td>\n",
       "      <td>2</td>\n",
       "      <td>0</td>\n",
       "      <td>DA Warner</td>\n",
       "      <td>S Dhawan</td>\n",
       "      <td>145.696667</td>\n",
       "      <td>62.68</td>\n",
       "      <td>TS Mills</td>\n",
       "      <td>21.4</td>\n",
       "      <td>30.6</td>\n",
       "      <td>8.57</td>\n",
       "      <td>0</td>\n",
       "      <td>0</td>\n",
       "      <td>0</td>\n",
       "    </tr>\n",
       "    <tr>\n",
       "      <th>2</th>\n",
       "      <td>2017</td>\n",
       "      <td>Sunrisers Hyderabad</td>\n",
       "      <td>normal</td>\n",
       "      <td>1</td>\n",
       "      <td>Sunrisers Hyderabad</td>\n",
       "      <td>Royal Challengers Bangalore</td>\n",
       "      <td>1</td>\n",
       "      <td>3</td>\n",
       "      <td>0</td>\n",
       "      <td>DA Warner</td>\n",
       "      <td>S Dhawan</td>\n",
       "      <td>145.696667</td>\n",
       "      <td>62.68</td>\n",
       "      <td>TS Mills</td>\n",
       "      <td>21.4</td>\n",
       "      <td>30.6</td>\n",
       "      <td>8.57</td>\n",
       "      <td>4</td>\n",
       "      <td>0</td>\n",
       "      <td>0</td>\n",
       "    </tr>\n",
       "    <tr>\n",
       "      <th>3</th>\n",
       "      <td>2017</td>\n",
       "      <td>Sunrisers Hyderabad</td>\n",
       "      <td>normal</td>\n",
       "      <td>1</td>\n",
       "      <td>Sunrisers Hyderabad</td>\n",
       "      <td>Royal Challengers Bangalore</td>\n",
       "      <td>1</td>\n",
       "      <td>4</td>\n",
       "      <td>0</td>\n",
       "      <td>DA Warner</td>\n",
       "      <td>S Dhawan</td>\n",
       "      <td>145.696667</td>\n",
       "      <td>62.68</td>\n",
       "      <td>TS Mills</td>\n",
       "      <td>21.4</td>\n",
       "      <td>30.6</td>\n",
       "      <td>8.57</td>\n",
       "      <td>0</td>\n",
       "      <td>0</td>\n",
       "      <td>0</td>\n",
       "    </tr>\n",
       "    <tr>\n",
       "      <th>4</th>\n",
       "      <td>2017</td>\n",
       "      <td>Sunrisers Hyderabad</td>\n",
       "      <td>normal</td>\n",
       "      <td>1</td>\n",
       "      <td>Sunrisers Hyderabad</td>\n",
       "      <td>Royal Challengers Bangalore</td>\n",
       "      <td>1</td>\n",
       "      <td>5</td>\n",
       "      <td>0</td>\n",
       "      <td>DA Warner</td>\n",
       "      <td>S Dhawan</td>\n",
       "      <td>145.696667</td>\n",
       "      <td>62.68</td>\n",
       "      <td>TS Mills</td>\n",
       "      <td>21.4</td>\n",
       "      <td>30.6</td>\n",
       "      <td>8.57</td>\n",
       "      <td>2</td>\n",
       "      <td>0</td>\n",
       "      <td>0</td>\n",
       "    </tr>\n",
       "  </tbody>\n",
       "</table>\n",
       "</div>"
      ],
      "text/plain": [
       "   season               winner  result  inning         batting_team  \\\n",
       "0    2017  Sunrisers Hyderabad  normal       1  Sunrisers Hyderabad   \n",
       "1    2017  Sunrisers Hyderabad  normal       1  Sunrisers Hyderabad   \n",
       "2    2017  Sunrisers Hyderabad  normal       1  Sunrisers Hyderabad   \n",
       "3    2017  Sunrisers Hyderabad  normal       1  Sunrisers Hyderabad   \n",
       "4    2017  Sunrisers Hyderabad  normal       1  Sunrisers Hyderabad   \n",
       "\n",
       "                  bowling_team  over  ball  is_super_over    batsman  \\\n",
       "0  Royal Challengers Bangalore     1     1              0  DA Warner   \n",
       "1  Royal Challengers Bangalore     1     2              0  DA Warner   \n",
       "2  Royal Challengers Bangalore     1     3              0  DA Warner   \n",
       "3  Royal Challengers Bangalore     1     4              0  DA Warner   \n",
       "4  Royal Challengers Bangalore     1     5              0  DA Warner   \n",
       "\n",
       "  non_striker  batsman strike rate  batsman average    bowler  \\\n",
       "0    S Dhawan           145.696667            62.68  TS Mills   \n",
       "1    S Dhawan           145.696667            62.68  TS Mills   \n",
       "2    S Dhawan           145.696667            62.68  TS Mills   \n",
       "3    S Dhawan           145.696667            62.68  TS Mills   \n",
       "4    S Dhawan           145.696667            62.68  TS Mills   \n",
       "\n",
       "   bowler strike rate  bowler average  bowler economy rate  total_runs  \\\n",
       "0                21.4            30.6                 8.57           0   \n",
       "1                21.4            30.6                 8.57           0   \n",
       "2                21.4            30.6                 8.57           4   \n",
       "3                21.4            30.6                 8.57           0   \n",
       "4                21.4            30.6                 8.57           2   \n",
       "\n",
       "   player_dismissed  dl_applied  \n",
       "0                 0           0  \n",
       "1                 0           0  \n",
       "2                 0           0  \n",
       "3                 0           0  \n",
       "4                 0           0  "
      ]
     },
     "execution_count": 6,
     "metadata": {},
     "output_type": "execute_result"
    }
   ],
   "source": [
    "playerIntData.head()"
   ]
  },
  {
   "cell_type": "code",
   "execution_count": 7,
   "metadata": {},
   "outputs": [
    {
     "data": {
      "text/plain": [
       "array([1, 2, 3, 4, 5], dtype=int64)"
      ]
     },
     "execution_count": 7,
     "metadata": {},
     "output_type": "execute_result"
    }
   ],
   "source": [
    "playerIntData.inning.unique()"
   ]
  },
  {
   "cell_type": "code",
   "execution_count": 8,
   "metadata": {},
   "outputs": [],
   "source": [
    "inning_filter = playerIntData['inning']<=2\n",
    "playerIntData = playerIntData[inning_filter]"
   ]
  },
  {
   "cell_type": "code",
   "execution_count": 9,
   "metadata": {},
   "outputs": [
    {
     "data": {
      "text/plain": [
       "array([1, 2], dtype=int64)"
      ]
     },
     "execution_count": 9,
     "metadata": {},
     "output_type": "execute_result"
    }
   ],
   "source": [
    "playerIntData.inning.unique()"
   ]
  },
  {
   "cell_type": "code",
   "execution_count": 10,
   "metadata": {},
   "outputs": [
    {
     "data": {
      "text/plain": [
       "array(['Sunrisers Hyderabad', 'Royal Challengers Bangalore',\n",
       "       'Mumbai Indians', 'Rising Pune Supergiant', 'Gujarat Lions',\n",
       "       'Kolkata Knight Riders', 'Kings XI Punjab', 'Delhi Daredevils',\n",
       "       'Chennai Super Kings', 'Rajasthan Royals', 'Deccan Chargers',\n",
       "       'Kochi Tuskers Kerala', 'Pune Warriors', 'Rising Pune Supergiants',\n",
       "       'Delhi Capitals'], dtype=object)"
      ]
     },
     "execution_count": 10,
     "metadata": {},
     "output_type": "execute_result"
    }
   ],
   "source": [
    "playerIntData.batting_team.unique()"
   ]
  },
  {
   "cell_type": "code",
   "execution_count": 11,
   "metadata": {},
   "outputs": [
    {
     "data": {
      "text/plain": [
       "array(['Royal Challengers Bangalore', 'Sunrisers Hyderabad',\n",
       "       'Rising Pune Supergiant', 'Mumbai Indians',\n",
       "       'Kolkata Knight Riders', 'Gujarat Lions', 'Kings XI Punjab',\n",
       "       'Delhi Daredevils', 'Chennai Super Kings', 'Rajasthan Royals',\n",
       "       'Deccan Chargers', 'Kochi Tuskers Kerala', 'Pune Warriors',\n",
       "       'Rising Pune Supergiants', 'Delhi Capitals'], dtype=object)"
      ]
     },
     "execution_count": 11,
     "metadata": {},
     "output_type": "execute_result"
    }
   ],
   "source": [
    "playerIntData.bowling_team.unique()"
   ]
  },
  {
   "cell_type": "code",
   "execution_count": 12,
   "metadata": {},
   "outputs": [],
   "source": [
    "playerIntData.drop(playerIntData[playerIntData['batting_team']=='Rising Pune Supergiant'].index, inplace = True)\n",
    "playerIntData.drop(playerIntData[playerIntData['batting_team']=='Rising Pune Supergiants'].index, inplace = True)\n",
    "playerIntData.drop(playerIntData[playerIntData['batting_team']=='Gujarat Lions'].index, inplace = True)\n",
    "playerIntData.drop(playerIntData[playerIntData['batting_team']=='Deccan Chargers'].index, inplace = True)\n",
    "playerIntData.drop(playerIntData[playerIntData['batting_team']=='Kochi Tuskers Kerala'].index, inplace = True)\n",
    "playerIntData.drop(playerIntData[playerIntData['batting_team']=='Pune Warriors'].index, inplace = True)\n",
    "playerIntData.drop(playerIntData[playerIntData['bowling_team']=='Rising Pune Supergiant'].index, inplace = True)\n",
    "playerIntData.drop(playerIntData[playerIntData['bowling_team']=='Rising Pune Supergiants'].index, inplace = True)\n",
    "playerIntData.drop(playerIntData[playerIntData['bowling_team']=='Gujarat Lions'].index, inplace = True)\n",
    "playerIntData.drop(playerIntData[playerIntData['bowling_team']=='Deccan Chargers'].index, inplace = True)\n",
    "playerIntData.drop(playerIntData[playerIntData['bowling_team']=='Kochi Tuskers Kerala'].index, inplace = True)\n",
    "playerIntData.drop(playerIntData[playerIntData['bowling_team']=='Pune Warriors'].index, inplace = True)"
   ]
  },
  {
   "cell_type": "code",
   "execution_count": 13,
   "metadata": {},
   "outputs": [
    {
     "data": {
      "text/plain": [
       "array(['Sunrisers Hyderabad', 'Royal Challengers Bangalore',\n",
       "       'Delhi Daredevils', 'Kolkata Knight Riders', 'Mumbai Indians',\n",
       "       'Kings XI Punjab', 'Chennai Super Kings', 'Rajasthan Royals',\n",
       "       'Delhi Capitals'], dtype=object)"
      ]
     },
     "execution_count": 13,
     "metadata": {},
     "output_type": "execute_result"
    }
   ],
   "source": [
    "playerIntData.batting_team.unique()"
   ]
  },
  {
   "cell_type": "code",
   "execution_count": 14,
   "metadata": {},
   "outputs": [
    {
     "data": {
      "text/plain": [
       "array(['Royal Challengers Bangalore', 'Sunrisers Hyderabad',\n",
       "       'Delhi Daredevils', 'Mumbai Indians', 'Kolkata Knight Riders',\n",
       "       'Kings XI Punjab', 'Chennai Super Kings', 'Rajasthan Royals',\n",
       "       'Delhi Capitals'], dtype=object)"
      ]
     },
     "execution_count": 14,
     "metadata": {},
     "output_type": "execute_result"
    }
   ],
   "source": [
    "playerIntData.bowling_team.unique()"
   ]
  },
  {
   "cell_type": "code",
   "execution_count": 15,
   "metadata": {},
   "outputs": [],
   "source": [
    "playerIntData.replace(to_replace='Delhi Daredevils',value='Delhi Capitals',inplace=True)"
   ]
  },
  {
   "cell_type": "code",
   "execution_count": 16,
   "metadata": {},
   "outputs": [
    {
     "data": {
      "text/plain": [
       "array([ 1,  2,  3,  4,  5,  6,  7,  8,  9, 10, 11, 12, 13, 14, 15, 16, 17,\n",
       "       18, 19, 20], dtype=int64)"
      ]
     },
     "execution_count": 16,
     "metadata": {},
     "output_type": "execute_result"
    }
   ],
   "source": [
    "playerIntData.over.unique()"
   ]
  },
  {
   "cell_type": "code",
   "execution_count": 17,
   "metadata": {},
   "outputs": [
    {
     "data": {
      "text/plain": [
       "array([1, 2, 3, 4, 5, 6, 7, 8, 9], dtype=int64)"
      ]
     },
     "execution_count": 17,
     "metadata": {},
     "output_type": "execute_result"
    }
   ],
   "source": [
    "playerIntData.ball.unique()"
   ]
  },
  {
   "cell_type": "code",
   "execution_count": 18,
   "metadata": {},
   "outputs": [
    {
     "data": {
      "text/plain": [
       "array([0], dtype=int64)"
      ]
     },
     "execution_count": 18,
     "metadata": {},
     "output_type": "execute_result"
    }
   ],
   "source": [
    "playerIntData.is_super_over.unique()"
   ]
  },
  {
   "cell_type": "code",
   "execution_count": 19,
   "metadata": {},
   "outputs": [],
   "source": [
    "playerIntData = playerIntData.drop(['is_super_over'],axis=1)"
   ]
  },
  {
   "cell_type": "code",
   "execution_count": 20,
   "metadata": {},
   "outputs": [
    {
     "data": {
      "text/plain": [
       "array([ 0,  4,  2,  1,  6,  3,  5,  7, 10,  8], dtype=int64)"
      ]
     },
     "execution_count": 20,
     "metadata": {},
     "output_type": "execute_result"
    }
   ],
   "source": [
    "playerIntData.total_runs.unique()"
   ]
  },
  {
   "cell_type": "code",
   "execution_count": 21,
   "metadata": {},
   "outputs": [
    {
     "data": {
      "text/plain": [
       "array([0, 1], dtype=int64)"
      ]
     },
     "execution_count": 21,
     "metadata": {},
     "output_type": "execute_result"
    }
   ],
   "source": [
    "playerIntData.player_dismissed.unique()"
   ]
  },
  {
   "cell_type": "code",
   "execution_count": 22,
   "metadata": {},
   "outputs": [
    {
     "data": {
      "text/plain": [
       "array([2017, 2008, 2009, 2010, 2011, 2012, 2013, 2014, 2015, 2016, 2018,\n",
       "       2019], dtype=int64)"
      ]
     },
     "execution_count": 22,
     "metadata": {},
     "output_type": "execute_result"
    }
   ],
   "source": [
    "playerIntData.season.unique()"
   ]
  },
  {
   "cell_type": "code",
   "execution_count": 23,
   "metadata": {},
   "outputs": [
    {
     "data": {
      "text/plain": [
       "array(['normal', 'tie', 'no result'], dtype=object)"
      ]
     },
     "execution_count": 23,
     "metadata": {},
     "output_type": "execute_result"
    }
   ],
   "source": [
    "playerIntData.result.unique()"
   ]
  },
  {
   "cell_type": "code",
   "execution_count": 24,
   "metadata": {},
   "outputs": [
    {
     "data": {
      "text/plain": [
       "array([0, 1], dtype=int64)"
      ]
     },
     "execution_count": 24,
     "metadata": {},
     "output_type": "execute_result"
    }
   ],
   "source": [
    "playerIntData.dl_applied.unique()"
   ]
  },
  {
   "cell_type": "code",
   "execution_count": 25,
   "metadata": {},
   "outputs": [
    {
     "data": {
      "text/plain": [
       "Index(['season', 'winner', 'result', 'inning', 'batting_team', 'bowling_team',\n",
       "       'over', 'ball', 'batsman', 'non_striker', 'batsman strike rate',\n",
       "       'batsman average', 'bowler', 'bowler strike rate', 'bowler average',\n",
       "       'bowler economy rate', 'total_runs', 'player_dismissed', 'dl_applied'],\n",
       "      dtype='object')"
      ]
     },
     "execution_count": 25,
     "metadata": {},
     "output_type": "execute_result"
    }
   ],
   "source": [
    "playerIntData.columns"
   ]
  },
  {
   "cell_type": "code",
   "execution_count": 26,
   "metadata": {},
   "outputs": [],
   "source": [
    "playerIntData = playerIntData.drop(['season', 'winner', 'result','dl_applied'],axis=1)"
   ]
  },
  {
   "cell_type": "code",
   "execution_count": 27,
   "metadata": {},
   "outputs": [
    {
     "data": {
      "text/html": [
       "<div>\n",
       "<style scoped>\n",
       "    .dataframe tbody tr th:only-of-type {\n",
       "        vertical-align: middle;\n",
       "    }\n",
       "\n",
       "    .dataframe tbody tr th {\n",
       "        vertical-align: top;\n",
       "    }\n",
       "\n",
       "    .dataframe thead th {\n",
       "        text-align: right;\n",
       "    }\n",
       "</style>\n",
       "<table border=\"1\" class=\"dataframe\">\n",
       "  <thead>\n",
       "    <tr style=\"text-align: right;\">\n",
       "      <th></th>\n",
       "      <th>inning</th>\n",
       "      <th>batting_team</th>\n",
       "      <th>bowling_team</th>\n",
       "      <th>over</th>\n",
       "      <th>ball</th>\n",
       "      <th>batsman</th>\n",
       "      <th>non_striker</th>\n",
       "      <th>batsman strike rate</th>\n",
       "      <th>batsman average</th>\n",
       "      <th>bowler</th>\n",
       "      <th>bowler strike rate</th>\n",
       "      <th>bowler average</th>\n",
       "      <th>bowler economy rate</th>\n",
       "      <th>total_runs</th>\n",
       "      <th>player_dismissed</th>\n",
       "    </tr>\n",
       "  </thead>\n",
       "  <tbody>\n",
       "    <tr>\n",
       "      <th>0</th>\n",
       "      <td>1</td>\n",
       "      <td>Sunrisers Hyderabad</td>\n",
       "      <td>Royal Challengers Bangalore</td>\n",
       "      <td>1</td>\n",
       "      <td>1</td>\n",
       "      <td>DA Warner</td>\n",
       "      <td>S Dhawan</td>\n",
       "      <td>145.696667</td>\n",
       "      <td>62.68</td>\n",
       "      <td>TS Mills</td>\n",
       "      <td>21.4</td>\n",
       "      <td>30.6</td>\n",
       "      <td>8.57</td>\n",
       "      <td>0</td>\n",
       "      <td>0</td>\n",
       "    </tr>\n",
       "    <tr>\n",
       "      <th>1</th>\n",
       "      <td>1</td>\n",
       "      <td>Sunrisers Hyderabad</td>\n",
       "      <td>Royal Challengers Bangalore</td>\n",
       "      <td>1</td>\n",
       "      <td>2</td>\n",
       "      <td>DA Warner</td>\n",
       "      <td>S Dhawan</td>\n",
       "      <td>145.696667</td>\n",
       "      <td>62.68</td>\n",
       "      <td>TS Mills</td>\n",
       "      <td>21.4</td>\n",
       "      <td>30.6</td>\n",
       "      <td>8.57</td>\n",
       "      <td>0</td>\n",
       "      <td>0</td>\n",
       "    </tr>\n",
       "    <tr>\n",
       "      <th>2</th>\n",
       "      <td>1</td>\n",
       "      <td>Sunrisers Hyderabad</td>\n",
       "      <td>Royal Challengers Bangalore</td>\n",
       "      <td>1</td>\n",
       "      <td>3</td>\n",
       "      <td>DA Warner</td>\n",
       "      <td>S Dhawan</td>\n",
       "      <td>145.696667</td>\n",
       "      <td>62.68</td>\n",
       "      <td>TS Mills</td>\n",
       "      <td>21.4</td>\n",
       "      <td>30.6</td>\n",
       "      <td>8.57</td>\n",
       "      <td>4</td>\n",
       "      <td>0</td>\n",
       "    </tr>\n",
       "    <tr>\n",
       "      <th>3</th>\n",
       "      <td>1</td>\n",
       "      <td>Sunrisers Hyderabad</td>\n",
       "      <td>Royal Challengers Bangalore</td>\n",
       "      <td>1</td>\n",
       "      <td>4</td>\n",
       "      <td>DA Warner</td>\n",
       "      <td>S Dhawan</td>\n",
       "      <td>145.696667</td>\n",
       "      <td>62.68</td>\n",
       "      <td>TS Mills</td>\n",
       "      <td>21.4</td>\n",
       "      <td>30.6</td>\n",
       "      <td>8.57</td>\n",
       "      <td>0</td>\n",
       "      <td>0</td>\n",
       "    </tr>\n",
       "    <tr>\n",
       "      <th>4</th>\n",
       "      <td>1</td>\n",
       "      <td>Sunrisers Hyderabad</td>\n",
       "      <td>Royal Challengers Bangalore</td>\n",
       "      <td>1</td>\n",
       "      <td>5</td>\n",
       "      <td>DA Warner</td>\n",
       "      <td>S Dhawan</td>\n",
       "      <td>145.696667</td>\n",
       "      <td>62.68</td>\n",
       "      <td>TS Mills</td>\n",
       "      <td>21.4</td>\n",
       "      <td>30.6</td>\n",
       "      <td>8.57</td>\n",
       "      <td>2</td>\n",
       "      <td>0</td>\n",
       "    </tr>\n",
       "  </tbody>\n",
       "</table>\n",
       "</div>"
      ],
      "text/plain": [
       "   inning         batting_team                 bowling_team  over  ball  \\\n",
       "0       1  Sunrisers Hyderabad  Royal Challengers Bangalore     1     1   \n",
       "1       1  Sunrisers Hyderabad  Royal Challengers Bangalore     1     2   \n",
       "2       1  Sunrisers Hyderabad  Royal Challengers Bangalore     1     3   \n",
       "3       1  Sunrisers Hyderabad  Royal Challengers Bangalore     1     4   \n",
       "4       1  Sunrisers Hyderabad  Royal Challengers Bangalore     1     5   \n",
       "\n",
       "     batsman non_striker  batsman strike rate  batsman average    bowler  \\\n",
       "0  DA Warner    S Dhawan           145.696667            62.68  TS Mills   \n",
       "1  DA Warner    S Dhawan           145.696667            62.68  TS Mills   \n",
       "2  DA Warner    S Dhawan           145.696667            62.68  TS Mills   \n",
       "3  DA Warner    S Dhawan           145.696667            62.68  TS Mills   \n",
       "4  DA Warner    S Dhawan           145.696667            62.68  TS Mills   \n",
       "\n",
       "   bowler strike rate  bowler average  bowler economy rate  total_runs  \\\n",
       "0                21.4            30.6                 8.57           0   \n",
       "1                21.4            30.6                 8.57           0   \n",
       "2                21.4            30.6                 8.57           4   \n",
       "3                21.4            30.6                 8.57           0   \n",
       "4                21.4            30.6                 8.57           2   \n",
       "\n",
       "   player_dismissed  \n",
       "0                 0  \n",
       "1                 0  \n",
       "2                 0  \n",
       "3                 0  \n",
       "4                 0  "
      ]
     },
     "execution_count": 27,
     "metadata": {},
     "output_type": "execute_result"
    }
   ],
   "source": [
    "playerIntData.head()"
   ]
  },
  {
   "cell_type": "code",
   "execution_count": 28,
   "metadata": {},
   "outputs": [
    {
     "data": {
      "text/html": [
       "<div>\n",
       "<style scoped>\n",
       "    .dataframe tbody tr th:only-of-type {\n",
       "        vertical-align: middle;\n",
       "    }\n",
       "\n",
       "    .dataframe tbody tr th {\n",
       "        vertical-align: top;\n",
       "    }\n",
       "\n",
       "    .dataframe thead th {\n",
       "        text-align: right;\n",
       "    }\n",
       "</style>\n",
       "<table border=\"1\" class=\"dataframe\">\n",
       "  <thead>\n",
       "    <tr style=\"text-align: right;\">\n",
       "      <th></th>\n",
       "      <th>index</th>\n",
       "      <th>inning</th>\n",
       "      <th>batting_team</th>\n",
       "      <th>bowling_team</th>\n",
       "      <th>over</th>\n",
       "      <th>ball</th>\n",
       "      <th>batsman</th>\n",
       "      <th>non_striker</th>\n",
       "      <th>batsman strike rate</th>\n",
       "      <th>batsman average</th>\n",
       "      <th>bowler</th>\n",
       "      <th>bowler strike rate</th>\n",
       "      <th>bowler average</th>\n",
       "      <th>bowler economy rate</th>\n",
       "      <th>total_runs</th>\n",
       "      <th>player_dismissed</th>\n",
       "    </tr>\n",
       "  </thead>\n",
       "  <tbody>\n",
       "    <tr>\n",
       "      <th>0</th>\n",
       "      <td>0</td>\n",
       "      <td>1</td>\n",
       "      <td>Sunrisers Hyderabad</td>\n",
       "      <td>Royal Challengers Bangalore</td>\n",
       "      <td>1</td>\n",
       "      <td>1</td>\n",
       "      <td>DA Warner</td>\n",
       "      <td>S Dhawan</td>\n",
       "      <td>145.696667</td>\n",
       "      <td>62.68</td>\n",
       "      <td>TS Mills</td>\n",
       "      <td>21.4</td>\n",
       "      <td>30.6</td>\n",
       "      <td>8.57</td>\n",
       "      <td>0</td>\n",
       "      <td>0</td>\n",
       "    </tr>\n",
       "    <tr>\n",
       "      <th>1</th>\n",
       "      <td>1</td>\n",
       "      <td>1</td>\n",
       "      <td>Sunrisers Hyderabad</td>\n",
       "      <td>Royal Challengers Bangalore</td>\n",
       "      <td>1</td>\n",
       "      <td>2</td>\n",
       "      <td>DA Warner</td>\n",
       "      <td>S Dhawan</td>\n",
       "      <td>145.696667</td>\n",
       "      <td>62.68</td>\n",
       "      <td>TS Mills</td>\n",
       "      <td>21.4</td>\n",
       "      <td>30.6</td>\n",
       "      <td>8.57</td>\n",
       "      <td>0</td>\n",
       "      <td>0</td>\n",
       "    </tr>\n",
       "    <tr>\n",
       "      <th>2</th>\n",
       "      <td>2</td>\n",
       "      <td>1</td>\n",
       "      <td>Sunrisers Hyderabad</td>\n",
       "      <td>Royal Challengers Bangalore</td>\n",
       "      <td>1</td>\n",
       "      <td>3</td>\n",
       "      <td>DA Warner</td>\n",
       "      <td>S Dhawan</td>\n",
       "      <td>145.696667</td>\n",
       "      <td>62.68</td>\n",
       "      <td>TS Mills</td>\n",
       "      <td>21.4</td>\n",
       "      <td>30.6</td>\n",
       "      <td>8.57</td>\n",
       "      <td>4</td>\n",
       "      <td>0</td>\n",
       "    </tr>\n",
       "    <tr>\n",
       "      <th>3</th>\n",
       "      <td>3</td>\n",
       "      <td>1</td>\n",
       "      <td>Sunrisers Hyderabad</td>\n",
       "      <td>Royal Challengers Bangalore</td>\n",
       "      <td>1</td>\n",
       "      <td>4</td>\n",
       "      <td>DA Warner</td>\n",
       "      <td>S Dhawan</td>\n",
       "      <td>145.696667</td>\n",
       "      <td>62.68</td>\n",
       "      <td>TS Mills</td>\n",
       "      <td>21.4</td>\n",
       "      <td>30.6</td>\n",
       "      <td>8.57</td>\n",
       "      <td>0</td>\n",
       "      <td>0</td>\n",
       "    </tr>\n",
       "    <tr>\n",
       "      <th>4</th>\n",
       "      <td>4</td>\n",
       "      <td>1</td>\n",
       "      <td>Sunrisers Hyderabad</td>\n",
       "      <td>Royal Challengers Bangalore</td>\n",
       "      <td>1</td>\n",
       "      <td>5</td>\n",
       "      <td>DA Warner</td>\n",
       "      <td>S Dhawan</td>\n",
       "      <td>145.696667</td>\n",
       "      <td>62.68</td>\n",
       "      <td>TS Mills</td>\n",
       "      <td>21.4</td>\n",
       "      <td>30.6</td>\n",
       "      <td>8.57</td>\n",
       "      <td>2</td>\n",
       "      <td>0</td>\n",
       "    </tr>\n",
       "  </tbody>\n",
       "</table>\n",
       "</div>"
      ],
      "text/plain": [
       "   index  inning         batting_team                 bowling_team  over  \\\n",
       "0      0       1  Sunrisers Hyderabad  Royal Challengers Bangalore     1   \n",
       "1      1       1  Sunrisers Hyderabad  Royal Challengers Bangalore     1   \n",
       "2      2       1  Sunrisers Hyderabad  Royal Challengers Bangalore     1   \n",
       "3      3       1  Sunrisers Hyderabad  Royal Challengers Bangalore     1   \n",
       "4      4       1  Sunrisers Hyderabad  Royal Challengers Bangalore     1   \n",
       "\n",
       "   ball    batsman non_striker  batsman strike rate  batsman average  \\\n",
       "0     1  DA Warner    S Dhawan           145.696667            62.68   \n",
       "1     2  DA Warner    S Dhawan           145.696667            62.68   \n",
       "2     3  DA Warner    S Dhawan           145.696667            62.68   \n",
       "3     4  DA Warner    S Dhawan           145.696667            62.68   \n",
       "4     5  DA Warner    S Dhawan           145.696667            62.68   \n",
       "\n",
       "     bowler  bowler strike rate  bowler average  bowler economy rate  \\\n",
       "0  TS Mills                21.4            30.6                 8.57   \n",
       "1  TS Mills                21.4            30.6                 8.57   \n",
       "2  TS Mills                21.4            30.6                 8.57   \n",
       "3  TS Mills                21.4            30.6                 8.57   \n",
       "4  TS Mills                21.4            30.6                 8.57   \n",
       "\n",
       "   total_runs  player_dismissed  \n",
       "0           0                 0  \n",
       "1           0                 0  \n",
       "2           4                 0  \n",
       "3           0                 0  \n",
       "4           2                 0  "
      ]
     },
     "execution_count": 28,
     "metadata": {},
     "output_type": "execute_result"
    }
   ],
   "source": [
    "playerIntData.dropna(axis=0)\n",
    "playerIntData = playerIntData.reset_index(drop=False)\n",
    "playerIntData.head()"
   ]
  },
  {
   "cell_type": "code",
   "execution_count": 29,
   "metadata": {},
   "outputs": [
    {
     "data": {
      "text/html": [
       "<div>\n",
       "<style scoped>\n",
       "    .dataframe tbody tr th:only-of-type {\n",
       "        vertical-align: middle;\n",
       "    }\n",
       "\n",
       "    .dataframe tbody tr th {\n",
       "        vertical-align: top;\n",
       "    }\n",
       "\n",
       "    .dataframe thead th {\n",
       "        text-align: right;\n",
       "    }\n",
       "</style>\n",
       "<table border=\"1\" class=\"dataframe\">\n",
       "  <thead>\n",
       "    <tr style=\"text-align: right;\">\n",
       "      <th></th>\n",
       "      <th>inning</th>\n",
       "      <th>batting_team</th>\n",
       "      <th>bowling_team</th>\n",
       "      <th>over</th>\n",
       "      <th>ball</th>\n",
       "      <th>batsman</th>\n",
       "      <th>non_striker</th>\n",
       "      <th>batsman strike rate</th>\n",
       "      <th>batsman average</th>\n",
       "      <th>bowler</th>\n",
       "      <th>bowler strike rate</th>\n",
       "      <th>bowler average</th>\n",
       "      <th>bowler economy rate</th>\n",
       "      <th>total_runs</th>\n",
       "      <th>player_dismissed</th>\n",
       "    </tr>\n",
       "  </thead>\n",
       "  <tbody>\n",
       "    <tr>\n",
       "      <th>0</th>\n",
       "      <td>1</td>\n",
       "      <td>Sunrisers Hyderabad</td>\n",
       "      <td>Royal Challengers Bangalore</td>\n",
       "      <td>1</td>\n",
       "      <td>1</td>\n",
       "      <td>DA Warner</td>\n",
       "      <td>S Dhawan</td>\n",
       "      <td>145.696667</td>\n",
       "      <td>62.68</td>\n",
       "      <td>TS Mills</td>\n",
       "      <td>21.4</td>\n",
       "      <td>30.6</td>\n",
       "      <td>8.57</td>\n",
       "      <td>0</td>\n",
       "      <td>0</td>\n",
       "    </tr>\n",
       "    <tr>\n",
       "      <th>1</th>\n",
       "      <td>1</td>\n",
       "      <td>Sunrisers Hyderabad</td>\n",
       "      <td>Royal Challengers Bangalore</td>\n",
       "      <td>1</td>\n",
       "      <td>2</td>\n",
       "      <td>DA Warner</td>\n",
       "      <td>S Dhawan</td>\n",
       "      <td>145.696667</td>\n",
       "      <td>62.68</td>\n",
       "      <td>TS Mills</td>\n",
       "      <td>21.4</td>\n",
       "      <td>30.6</td>\n",
       "      <td>8.57</td>\n",
       "      <td>0</td>\n",
       "      <td>0</td>\n",
       "    </tr>\n",
       "    <tr>\n",
       "      <th>2</th>\n",
       "      <td>1</td>\n",
       "      <td>Sunrisers Hyderabad</td>\n",
       "      <td>Royal Challengers Bangalore</td>\n",
       "      <td>1</td>\n",
       "      <td>3</td>\n",
       "      <td>DA Warner</td>\n",
       "      <td>S Dhawan</td>\n",
       "      <td>145.696667</td>\n",
       "      <td>62.68</td>\n",
       "      <td>TS Mills</td>\n",
       "      <td>21.4</td>\n",
       "      <td>30.6</td>\n",
       "      <td>8.57</td>\n",
       "      <td>4</td>\n",
       "      <td>0</td>\n",
       "    </tr>\n",
       "    <tr>\n",
       "      <th>3</th>\n",
       "      <td>1</td>\n",
       "      <td>Sunrisers Hyderabad</td>\n",
       "      <td>Royal Challengers Bangalore</td>\n",
       "      <td>1</td>\n",
       "      <td>4</td>\n",
       "      <td>DA Warner</td>\n",
       "      <td>S Dhawan</td>\n",
       "      <td>145.696667</td>\n",
       "      <td>62.68</td>\n",
       "      <td>TS Mills</td>\n",
       "      <td>21.4</td>\n",
       "      <td>30.6</td>\n",
       "      <td>8.57</td>\n",
       "      <td>0</td>\n",
       "      <td>0</td>\n",
       "    </tr>\n",
       "    <tr>\n",
       "      <th>4</th>\n",
       "      <td>1</td>\n",
       "      <td>Sunrisers Hyderabad</td>\n",
       "      <td>Royal Challengers Bangalore</td>\n",
       "      <td>1</td>\n",
       "      <td>5</td>\n",
       "      <td>DA Warner</td>\n",
       "      <td>S Dhawan</td>\n",
       "      <td>145.696667</td>\n",
       "      <td>62.68</td>\n",
       "      <td>TS Mills</td>\n",
       "      <td>21.4</td>\n",
       "      <td>30.6</td>\n",
       "      <td>8.57</td>\n",
       "      <td>2</td>\n",
       "      <td>0</td>\n",
       "    </tr>\n",
       "  </tbody>\n",
       "</table>\n",
       "</div>"
      ],
      "text/plain": [
       "   inning         batting_team                 bowling_team  over  ball  \\\n",
       "0       1  Sunrisers Hyderabad  Royal Challengers Bangalore     1     1   \n",
       "1       1  Sunrisers Hyderabad  Royal Challengers Bangalore     1     2   \n",
       "2       1  Sunrisers Hyderabad  Royal Challengers Bangalore     1     3   \n",
       "3       1  Sunrisers Hyderabad  Royal Challengers Bangalore     1     4   \n",
       "4       1  Sunrisers Hyderabad  Royal Challengers Bangalore     1     5   \n",
       "\n",
       "     batsman non_striker  batsman strike rate  batsman average    bowler  \\\n",
       "0  DA Warner    S Dhawan           145.696667            62.68  TS Mills   \n",
       "1  DA Warner    S Dhawan           145.696667            62.68  TS Mills   \n",
       "2  DA Warner    S Dhawan           145.696667            62.68  TS Mills   \n",
       "3  DA Warner    S Dhawan           145.696667            62.68  TS Mills   \n",
       "4  DA Warner    S Dhawan           145.696667            62.68  TS Mills   \n",
       "\n",
       "   bowler strike rate  bowler average  bowler economy rate  total_runs  \\\n",
       "0                21.4            30.6                 8.57           0   \n",
       "1                21.4            30.6                 8.57           0   \n",
       "2                21.4            30.6                 8.57           4   \n",
       "3                21.4            30.6                 8.57           0   \n",
       "4                21.4            30.6                 8.57           2   \n",
       "\n",
       "   player_dismissed  \n",
       "0                 0  \n",
       "1                 0  \n",
       "2                 0  \n",
       "3                 0  \n",
       "4                 0  "
      ]
     },
     "execution_count": 29,
     "metadata": {},
     "output_type": "execute_result"
    }
   ],
   "source": [
    "playerIntData = playerIntData.drop(['index'],axis=1)\n",
    "playerIntData.head()"
   ]
  },
  {
   "cell_type": "code",
   "execution_count": 30,
   "metadata": {},
   "outputs": [
    {
     "data": {
      "text/html": [
       "<div>\n",
       "<style scoped>\n",
       "    .dataframe tbody tr th:only-of-type {\n",
       "        vertical-align: middle;\n",
       "    }\n",
       "\n",
       "    .dataframe tbody tr th {\n",
       "        vertical-align: top;\n",
       "    }\n",
       "\n",
       "    .dataframe thead th {\n",
       "        text-align: right;\n",
       "    }\n",
       "</style>\n",
       "<table border=\"1\" class=\"dataframe\">\n",
       "  <thead>\n",
       "    <tr style=\"text-align: right;\">\n",
       "      <th></th>\n",
       "      <th>Unnamed: 0</th>\n",
       "      <th>Player</th>\n",
       "      <th>Batting Average</th>\n",
       "      <th>Batting Strike Rate</th>\n",
       "      <th>Bowling Average</th>\n",
       "      <th>Bowling Economy Rate</th>\n",
       "      <th>Bowling Strike Rate</th>\n",
       "      <th>Team</th>\n",
       "    </tr>\n",
       "  </thead>\n",
       "  <tbody>\n",
       "    <tr>\n",
       "      <th>0</th>\n",
       "      <td>0</td>\n",
       "      <td>A Ashish Reddy</td>\n",
       "      <td>23.500</td>\n",
       "      <td>162.060</td>\n",
       "      <td>39.000</td>\n",
       "      <td>10.170</td>\n",
       "      <td>23.00</td>\n",
       "      <td>Sunrisers Hyderabad</td>\n",
       "    </tr>\n",
       "    <tr>\n",
       "      <th>1</th>\n",
       "      <td>1</td>\n",
       "      <td>A Choudhary</td>\n",
       "      <td>25.000</td>\n",
       "      <td>125.000</td>\n",
       "      <td>28.800</td>\n",
       "      <td>8.550</td>\n",
       "      <td>20.20</td>\n",
       "      <td>Royal Challengers Bangalore</td>\n",
       "    </tr>\n",
       "    <tr>\n",
       "      <th>2</th>\n",
       "      <td>2</td>\n",
       "      <td>A Dananjaya</td>\n",
       "      <td>0.000</td>\n",
       "      <td>80.000</td>\n",
       "      <td>0.000</td>\n",
       "      <td>11.750</td>\n",
       "      <td>0.00</td>\n",
       "      <td>Mumbai Indians</td>\n",
       "    </tr>\n",
       "    <tr>\n",
       "      <th>3</th>\n",
       "      <td>3</td>\n",
       "      <td>A Mishra</td>\n",
       "      <td>15.375</td>\n",
       "      <td>65.075</td>\n",
       "      <td>26.825</td>\n",
       "      <td>7.545</td>\n",
       "      <td>21.20</td>\n",
       "      <td>Delhi Capitals</td>\n",
       "    </tr>\n",
       "    <tr>\n",
       "      <th>4</th>\n",
       "      <td>4</td>\n",
       "      <td>A Nehra</td>\n",
       "      <td>0.000</td>\n",
       "      <td>50.000</td>\n",
       "      <td>23.365</td>\n",
       "      <td>8.475</td>\n",
       "      <td>16.55</td>\n",
       "      <td>Sunrisers Hyderabad</td>\n",
       "    </tr>\n",
       "  </tbody>\n",
       "</table>\n",
       "</div>"
      ],
      "text/plain": [
       "   Unnamed: 0          Player  Batting Average  Batting Strike Rate  \\\n",
       "0           0  A Ashish Reddy           23.500              162.060   \n",
       "1           1     A Choudhary           25.000              125.000   \n",
       "2           2     A Dananjaya            0.000               80.000   \n",
       "3           3        A Mishra           15.375               65.075   \n",
       "4           4         A Nehra            0.000               50.000   \n",
       "\n",
       "   Bowling Average  Bowling Economy Rate  Bowling Strike Rate  \\\n",
       "0           39.000                10.170                23.00   \n",
       "1           28.800                 8.550                20.20   \n",
       "2            0.000                11.750                 0.00   \n",
       "3           26.825                 7.545                21.20   \n",
       "4           23.365                 8.475                16.55   \n",
       "\n",
       "                          Team  \n",
       "0          Sunrisers Hyderabad  \n",
       "1  Royal Challengers Bangalore  \n",
       "2               Mumbai Indians  \n",
       "3               Delhi Capitals  \n",
       "4          Sunrisers Hyderabad  "
      ]
     },
     "execution_count": 30,
     "metadata": {},
     "output_type": "execute_result"
    }
   ],
   "source": [
    "playerDF = pd.read_csv('PlayerDataCon.csv')\n",
    "playerDF.head()"
   ]
  },
  {
   "cell_type": "code",
   "execution_count": 31,
   "metadata": {},
   "outputs": [
    {
     "data": {
      "text/html": [
       "<div>\n",
       "<style scoped>\n",
       "    .dataframe tbody tr th:only-of-type {\n",
       "        vertical-align: middle;\n",
       "    }\n",
       "\n",
       "    .dataframe tbody tr th {\n",
       "        vertical-align: top;\n",
       "    }\n",
       "\n",
       "    .dataframe thead th {\n",
       "        text-align: right;\n",
       "    }\n",
       "</style>\n",
       "<table border=\"1\" class=\"dataframe\">\n",
       "  <thead>\n",
       "    <tr style=\"text-align: right;\">\n",
       "      <th></th>\n",
       "      <th>Player</th>\n",
       "      <th>Batting Average</th>\n",
       "      <th>Batting Strike Rate</th>\n",
       "      <th>Bowling Average</th>\n",
       "      <th>Bowling Economy Rate</th>\n",
       "      <th>Bowling Strike Rate</th>\n",
       "      <th>Team</th>\n",
       "    </tr>\n",
       "  </thead>\n",
       "  <tbody>\n",
       "    <tr>\n",
       "      <th>0</th>\n",
       "      <td>A Ashish Reddy</td>\n",
       "      <td>23.500</td>\n",
       "      <td>162.060</td>\n",
       "      <td>39.000</td>\n",
       "      <td>10.170</td>\n",
       "      <td>23.00</td>\n",
       "      <td>Sunrisers Hyderabad</td>\n",
       "    </tr>\n",
       "    <tr>\n",
       "      <th>1</th>\n",
       "      <td>A Choudhary</td>\n",
       "      <td>25.000</td>\n",
       "      <td>125.000</td>\n",
       "      <td>28.800</td>\n",
       "      <td>8.550</td>\n",
       "      <td>20.20</td>\n",
       "      <td>Royal Challengers Bangalore</td>\n",
       "    </tr>\n",
       "    <tr>\n",
       "      <th>2</th>\n",
       "      <td>A Dananjaya</td>\n",
       "      <td>0.000</td>\n",
       "      <td>80.000</td>\n",
       "      <td>0.000</td>\n",
       "      <td>11.750</td>\n",
       "      <td>0.00</td>\n",
       "      <td>Mumbai Indians</td>\n",
       "    </tr>\n",
       "    <tr>\n",
       "      <th>3</th>\n",
       "      <td>A Mishra</td>\n",
       "      <td>15.375</td>\n",
       "      <td>65.075</td>\n",
       "      <td>26.825</td>\n",
       "      <td>7.545</td>\n",
       "      <td>21.20</td>\n",
       "      <td>Delhi Capitals</td>\n",
       "    </tr>\n",
       "    <tr>\n",
       "      <th>4</th>\n",
       "      <td>A Nehra</td>\n",
       "      <td>0.000</td>\n",
       "      <td>50.000</td>\n",
       "      <td>23.365</td>\n",
       "      <td>8.475</td>\n",
       "      <td>16.55</td>\n",
       "      <td>Sunrisers Hyderabad</td>\n",
       "    </tr>\n",
       "  </tbody>\n",
       "</table>\n",
       "</div>"
      ],
      "text/plain": [
       "           Player  Batting Average  Batting Strike Rate  Bowling Average  \\\n",
       "0  A Ashish Reddy           23.500              162.060           39.000   \n",
       "1     A Choudhary           25.000              125.000           28.800   \n",
       "2     A Dananjaya            0.000               80.000            0.000   \n",
       "3        A Mishra           15.375               65.075           26.825   \n",
       "4         A Nehra            0.000               50.000           23.365   \n",
       "\n",
       "   Bowling Economy Rate  Bowling Strike Rate                         Team  \n",
       "0                10.170                23.00          Sunrisers Hyderabad  \n",
       "1                 8.550                20.20  Royal Challengers Bangalore  \n",
       "2                11.750                 0.00               Mumbai Indians  \n",
       "3                 7.545                21.20               Delhi Capitals  \n",
       "4                 8.475                16.55          Sunrisers Hyderabad  "
      ]
     },
     "execution_count": 31,
     "metadata": {},
     "output_type": "execute_result"
    }
   ],
   "source": [
    "playerDF = playerDF.drop(['Unnamed: 0'],axis=1)\n",
    "playerDF.head()"
   ]
  },
  {
   "cell_type": "code",
   "execution_count": 32,
   "metadata": {},
   "outputs": [
    {
     "data": {
      "text/html": [
       "<div>\n",
       "<style scoped>\n",
       "    .dataframe tbody tr th:only-of-type {\n",
       "        vertical-align: middle;\n",
       "    }\n",
       "\n",
       "    .dataframe tbody tr th {\n",
       "        vertical-align: top;\n",
       "    }\n",
       "\n",
       "    .dataframe thead th {\n",
       "        text-align: right;\n",
       "    }\n",
       "</style>\n",
       "<table border=\"1\" class=\"dataframe\">\n",
       "  <thead>\n",
       "    <tr style=\"text-align: right;\">\n",
       "      <th></th>\n",
       "      <th>Batting Average</th>\n",
       "      <th>Batting Strike Rate</th>\n",
       "    </tr>\n",
       "  </thead>\n",
       "  <tbody>\n",
       "    <tr>\n",
       "      <th>0</th>\n",
       "      <td>23.500</td>\n",
       "      <td>162.060</td>\n",
       "    </tr>\n",
       "    <tr>\n",
       "      <th>1</th>\n",
       "      <td>25.000</td>\n",
       "      <td>125.000</td>\n",
       "    </tr>\n",
       "    <tr>\n",
       "      <th>2</th>\n",
       "      <td>0.000</td>\n",
       "      <td>80.000</td>\n",
       "    </tr>\n",
       "    <tr>\n",
       "      <th>3</th>\n",
       "      <td>15.375</td>\n",
       "      <td>65.075</td>\n",
       "    </tr>\n",
       "    <tr>\n",
       "      <th>4</th>\n",
       "      <td>0.000</td>\n",
       "      <td>50.000</td>\n",
       "    </tr>\n",
       "  </tbody>\n",
       "</table>\n",
       "</div>"
      ],
      "text/plain": [
       "   Batting Average  Batting Strike Rate\n",
       "0           23.500              162.060\n",
       "1           25.000              125.000\n",
       "2            0.000               80.000\n",
       "3           15.375               65.075\n",
       "4            0.000               50.000"
      ]
     },
     "execution_count": 32,
     "metadata": {},
     "output_type": "execute_result"
    }
   ],
   "source": [
    "x1 = playerDF.iloc[:,1:3]\n",
    "x1.head()"
   ]
  },
  {
   "cell_type": "code",
   "execution_count": 33,
   "metadata": {},
   "outputs": [],
   "source": [
    "kmeans = KMeans(15)"
   ]
  },
  {
   "cell_type": "code",
   "execution_count": 34,
   "metadata": {},
   "outputs": [
    {
     "data": {
      "text/plain": [
       "KMeans(n_clusters=15)"
      ]
     },
     "execution_count": 34,
     "metadata": {},
     "output_type": "execute_result"
    }
   ],
   "source": [
    "kmeans.fit(x1)"
   ]
  },
  {
   "cell_type": "code",
   "execution_count": 35,
   "metadata": {},
   "outputs": [
    {
     "data": {
      "text/plain": [
       "array([11,  5,  3,  3,  8,  9,  5,  5,  0, 11,  1, 10,  1,  8,  6,  3, 14,\n",
       "        5, 12,  1,  7,  5,  2,  7,  3,  7,  8, 14,  1, 12,  5, 10,  3, 11,\n",
       "        3, 11,  5,  5,  5,  2,  2,  2,  0,  7,  1, 10,  0,  7, 12,  5,  9,\n",
       "        6,  5,  7,  5, 12, 12,  3, 12,  0,  7,  5,  5, 14,  6,  5,  7,  8,\n",
       "        8,  2,  0, 14,  1,  6,  6,  8,  0,  4,  4,  0,  1,  8, 14,  5,  1,\n",
       "        1,  5,  2,  8,  3,  6,  7,  9, 12,  7,  5, 10,  7, 10,  7,  0,  2,\n",
       "       10,  2,  2, 11,  7,  5,  9,  7, 12,  3,  6,  3, 14,  3,  7,  1,  7,\n",
       "       14,  2,  8, 14, 14,  7,  5,  5,  5,  1,  6, 14, 10,  7, 14,  6,  4,\n",
       "        6, 14, 11,  3,  0,  5,  9,  0, 12,  0,  8,  3,  7,  2,  6,  8,  0,\n",
       "        3,  0,  7,  3,  0,  0, 10,  0,  6, 10,  7,  0,  2, 14,  6, 10, 13,\n",
       "        6, 14, 10, 14,  5,  5, 14,  6,  1, 14,  2,  6, 10, 12,  8,  8,  6,\n",
       "        5,  0,  7,  7,  7,  1,  7,  6,  7,  5,  6, 10,  6, 12, 11,  2, 13,\n",
       "        5,  5,  5, 10,  6,  5,  5,  6, 10,  6, 14,  5, 14, 14,  0,  6,  1,\n",
       "        7,  7,  3, 10,  0,  6,  3,  7, 14,  9,  6,  1,  3, 10, 14,  7,  6,\n",
       "        1,  5,  8])"
      ]
     },
     "execution_count": 35,
     "metadata": {},
     "output_type": "execute_result"
    }
   ],
   "source": [
    "identified_batting_clusters = kmeans.fit_predict(x1)\n",
    "identified_batting_clusters"
   ]
  },
  {
   "cell_type": "code",
   "execution_count": 36,
   "metadata": {},
   "outputs": [
    {
     "data": {
      "text/html": [
       "<div>\n",
       "<style scoped>\n",
       "    .dataframe tbody tr th:only-of-type {\n",
       "        vertical-align: middle;\n",
       "    }\n",
       "\n",
       "    .dataframe tbody tr th {\n",
       "        vertical-align: top;\n",
       "    }\n",
       "\n",
       "    .dataframe thead th {\n",
       "        text-align: right;\n",
       "    }\n",
       "</style>\n",
       "<table border=\"1\" class=\"dataframe\">\n",
       "  <thead>\n",
       "    <tr style=\"text-align: right;\">\n",
       "      <th></th>\n",
       "      <th>Player</th>\n",
       "      <th>Batting Average</th>\n",
       "      <th>Batting Strike Rate</th>\n",
       "      <th>Bowling Average</th>\n",
       "      <th>Bowling Economy Rate</th>\n",
       "      <th>Bowling Strike Rate</th>\n",
       "      <th>Team</th>\n",
       "      <th>Batting Cluster</th>\n",
       "    </tr>\n",
       "  </thead>\n",
       "  <tbody>\n",
       "    <tr>\n",
       "      <th>0</th>\n",
       "      <td>A Ashish Reddy</td>\n",
       "      <td>23.500</td>\n",
       "      <td>162.060</td>\n",
       "      <td>39.000</td>\n",
       "      <td>10.170</td>\n",
       "      <td>23.00</td>\n",
       "      <td>Sunrisers Hyderabad</td>\n",
       "      <td>11</td>\n",
       "    </tr>\n",
       "    <tr>\n",
       "      <th>1</th>\n",
       "      <td>A Choudhary</td>\n",
       "      <td>25.000</td>\n",
       "      <td>125.000</td>\n",
       "      <td>28.800</td>\n",
       "      <td>8.550</td>\n",
       "      <td>20.20</td>\n",
       "      <td>Royal Challengers Bangalore</td>\n",
       "      <td>5</td>\n",
       "    </tr>\n",
       "    <tr>\n",
       "      <th>2</th>\n",
       "      <td>A Dananjaya</td>\n",
       "      <td>0.000</td>\n",
       "      <td>80.000</td>\n",
       "      <td>0.000</td>\n",
       "      <td>11.750</td>\n",
       "      <td>0.00</td>\n",
       "      <td>Mumbai Indians</td>\n",
       "      <td>3</td>\n",
       "    </tr>\n",
       "    <tr>\n",
       "      <th>3</th>\n",
       "      <td>A Mishra</td>\n",
       "      <td>15.375</td>\n",
       "      <td>65.075</td>\n",
       "      <td>26.825</td>\n",
       "      <td>7.545</td>\n",
       "      <td>21.20</td>\n",
       "      <td>Delhi Capitals</td>\n",
       "      <td>3</td>\n",
       "    </tr>\n",
       "    <tr>\n",
       "      <th>4</th>\n",
       "      <td>A Nehra</td>\n",
       "      <td>0.000</td>\n",
       "      <td>50.000</td>\n",
       "      <td>23.365</td>\n",
       "      <td>8.475</td>\n",
       "      <td>16.55</td>\n",
       "      <td>Sunrisers Hyderabad</td>\n",
       "      <td>8</td>\n",
       "    </tr>\n",
       "  </tbody>\n",
       "</table>\n",
       "</div>"
      ],
      "text/plain": [
       "           Player  Batting Average  Batting Strike Rate  Bowling Average  \\\n",
       "0  A Ashish Reddy           23.500              162.060           39.000   \n",
       "1     A Choudhary           25.000              125.000           28.800   \n",
       "2     A Dananjaya            0.000               80.000            0.000   \n",
       "3        A Mishra           15.375               65.075           26.825   \n",
       "4         A Nehra            0.000               50.000           23.365   \n",
       "\n",
       "   Bowling Economy Rate  Bowling Strike Rate                         Team  \\\n",
       "0                10.170                23.00          Sunrisers Hyderabad   \n",
       "1                 8.550                20.20  Royal Challengers Bangalore   \n",
       "2                11.750                 0.00               Mumbai Indians   \n",
       "3                 7.545                21.20               Delhi Capitals   \n",
       "4                 8.475                16.55          Sunrisers Hyderabad   \n",
       "\n",
       "   Batting Cluster  \n",
       "0               11  \n",
       "1                5  \n",
       "2                3  \n",
       "3                3  \n",
       "4                8  "
      ]
     },
     "execution_count": 36,
     "metadata": {},
     "output_type": "execute_result"
    }
   ],
   "source": [
    "playerData_with_clusters = playerDF.copy()\n",
    "playerData_with_clusters['Batting Cluster'] = identified_batting_clusters\n",
    "playerData_with_clusters.head()"
   ]
  },
  {
   "cell_type": "code",
   "execution_count": 37,
   "metadata": {},
   "outputs": [
    {
     "data": {
      "text/plain": [
       "5     34\n",
       "7     30\n",
       "6     27\n",
       "14    22\n",
       "0     20\n",
       "3     18\n",
       "10    17\n",
       "1     16\n",
       "8     14\n",
       "2     14\n",
       "12    11\n",
       "11     7\n",
       "9      6\n",
       "4      3\n",
       "13     2\n",
       "Name: Batting Cluster, dtype: int64"
      ]
     },
     "execution_count": 37,
     "metadata": {},
     "output_type": "execute_result"
    }
   ],
   "source": [
    "playerData_with_clusters['Batting Cluster'].value_counts()"
   ]
  },
  {
   "cell_type": "code",
   "execution_count": 38,
   "metadata": {},
   "outputs": [
    {
     "data": {
      "text/html": [
       "<div>\n",
       "<style scoped>\n",
       "    .dataframe tbody tr th:only-of-type {\n",
       "        vertical-align: middle;\n",
       "    }\n",
       "\n",
       "    .dataframe tbody tr th {\n",
       "        vertical-align: top;\n",
       "    }\n",
       "\n",
       "    .dataframe thead th {\n",
       "        text-align: right;\n",
       "    }\n",
       "</style>\n",
       "<table border=\"1\" class=\"dataframe\">\n",
       "  <thead>\n",
       "    <tr style=\"text-align: right;\">\n",
       "      <th></th>\n",
       "      <th>Bowling Average</th>\n",
       "      <th>Bowling Economy Rate</th>\n",
       "      <th>Bowling Strike Rate</th>\n",
       "    </tr>\n",
       "  </thead>\n",
       "  <tbody>\n",
       "    <tr>\n",
       "      <th>0</th>\n",
       "      <td>39.000</td>\n",
       "      <td>10.170</td>\n",
       "      <td>23.00</td>\n",
       "    </tr>\n",
       "    <tr>\n",
       "      <th>1</th>\n",
       "      <td>28.800</td>\n",
       "      <td>8.550</td>\n",
       "      <td>20.20</td>\n",
       "    </tr>\n",
       "    <tr>\n",
       "      <th>2</th>\n",
       "      <td>0.000</td>\n",
       "      <td>11.750</td>\n",
       "      <td>0.00</td>\n",
       "    </tr>\n",
       "    <tr>\n",
       "      <th>3</th>\n",
       "      <td>26.825</td>\n",
       "      <td>7.545</td>\n",
       "      <td>21.20</td>\n",
       "    </tr>\n",
       "    <tr>\n",
       "      <th>4</th>\n",
       "      <td>23.365</td>\n",
       "      <td>8.475</td>\n",
       "      <td>16.55</td>\n",
       "    </tr>\n",
       "  </tbody>\n",
       "</table>\n",
       "</div>"
      ],
      "text/plain": [
       "   Bowling Average  Bowling Economy Rate  Bowling Strike Rate\n",
       "0           39.000                10.170                23.00\n",
       "1           28.800                 8.550                20.20\n",
       "2            0.000                11.750                 0.00\n",
       "3           26.825                 7.545                21.20\n",
       "4           23.365                 8.475                16.55"
      ]
     },
     "execution_count": 38,
     "metadata": {},
     "output_type": "execute_result"
    }
   ],
   "source": [
    "x2 = playerDF.iloc[:,3:6]\n",
    "x2.head()"
   ]
  },
  {
   "cell_type": "code",
   "execution_count": 39,
   "metadata": {},
   "outputs": [],
   "source": [
    "kmeans = KMeans(15)"
   ]
  },
  {
   "cell_type": "code",
   "execution_count": 40,
   "metadata": {},
   "outputs": [
    {
     "data": {
      "text/plain": [
       "KMeans(n_clusters=15)"
      ]
     },
     "execution_count": 40,
     "metadata": {},
     "output_type": "execute_result"
    }
   ],
   "source": [
    "kmeans.fit(x2)"
   ]
  },
  {
   "cell_type": "code",
   "execution_count": 41,
   "metadata": {},
   "outputs": [
    {
     "data": {
      "text/plain": [
       "array([10,  2,  6,  2, 11,  0,  0,  6,  0, 11,  9,  0,  0,  7,  0,  0,  0,\n",
       "        9,  5, 10,  5,  0, 14,  6,  5, 10, 11,  2, 11,  2, 10,  0, 11, 12,\n",
       "       14,  9,  0, 10,  0,  0, 14,  2,  7,  6, 14,  2, 11, 10,  6,  0,  0,\n",
       "       10,  5,  7, 11, 11,  0,  0,  7, 11,  5,  0,  0,  0,  0,  0, 10,  2,\n",
       "        6,  5, 14,  0, 10, 10,  0,  1, 10,  6,  5,  0, 11, 11,  2,  0, 14,\n",
       "        9, 11,  0,  2, 11,  0,  0,  0,  1, 10,  5,  9, 11,  4,  7, 11,  6,\n",
       "        2,  0,  2,  8, 14,  0,  0, 11,  0,  2,  0,  5,  5, 10,  5,  1,  8,\n",
       "        0,  6, 10,  9,  2, 12,  0,  0,  0,  6,  3, 12,  0, 13,  2, 11,  0,\n",
       "        0,  6, 10, 10,  6,  7,  0,  0, 10,  9,  2,  9, 11,  0, 14, 10,  2,\n",
       "        0,  0,  5,  0,  9,  6,  7,  0,  0, 11,  6,  2,  0,  3,  0, 10,  2,\n",
       "       12, 12, 11, 11,  2,  0, 11,  0,  0,  0,  0,  0, 11,  6, 10, 11,  0,\n",
       "        0,  5,  2, 11,  6,  7,  7,  0, 10,  0,  0, 12,  0,  2,  2,  6,  2,\n",
       "        0,  0,  0, 10,  0,  2,  0,  0,  7,  0,  0,  0,  2, 10,  1,  0,  2,\n",
       "       12,  7, 10, 12,  5,  5,  2,  0,  2,  0,  9,  1,  0,  0, 10,  1, 11,\n",
       "       11, 14, 10])"
      ]
     },
     "execution_count": 41,
     "metadata": {},
     "output_type": "execute_result"
    }
   ],
   "source": [
    "identified_bowling_clusters = kmeans.fit_predict(x2)\n",
    "identified_bowling_clusters"
   ]
  },
  {
   "cell_type": "code",
   "execution_count": 42,
   "metadata": {},
   "outputs": [
    {
     "data": {
      "text/html": [
       "<div>\n",
       "<style scoped>\n",
       "    .dataframe tbody tr th:only-of-type {\n",
       "        vertical-align: middle;\n",
       "    }\n",
       "\n",
       "    .dataframe tbody tr th {\n",
       "        vertical-align: top;\n",
       "    }\n",
       "\n",
       "    .dataframe thead th {\n",
       "        text-align: right;\n",
       "    }\n",
       "</style>\n",
       "<table border=\"1\" class=\"dataframe\">\n",
       "  <thead>\n",
       "    <tr style=\"text-align: right;\">\n",
       "      <th></th>\n",
       "      <th>Player</th>\n",
       "      <th>Batting Average</th>\n",
       "      <th>Batting Strike Rate</th>\n",
       "      <th>Bowling Average</th>\n",
       "      <th>Bowling Economy Rate</th>\n",
       "      <th>Bowling Strike Rate</th>\n",
       "      <th>Team</th>\n",
       "      <th>Batting Cluster</th>\n",
       "      <th>Bowling Cluster</th>\n",
       "    </tr>\n",
       "  </thead>\n",
       "  <tbody>\n",
       "    <tr>\n",
       "      <th>0</th>\n",
       "      <td>A Ashish Reddy</td>\n",
       "      <td>23.500</td>\n",
       "      <td>162.060</td>\n",
       "      <td>39.000</td>\n",
       "      <td>10.170</td>\n",
       "      <td>23.00</td>\n",
       "      <td>Sunrisers Hyderabad</td>\n",
       "      <td>11</td>\n",
       "      <td>10</td>\n",
       "    </tr>\n",
       "    <tr>\n",
       "      <th>1</th>\n",
       "      <td>A Choudhary</td>\n",
       "      <td>25.000</td>\n",
       "      <td>125.000</td>\n",
       "      <td>28.800</td>\n",
       "      <td>8.550</td>\n",
       "      <td>20.20</td>\n",
       "      <td>Royal Challengers Bangalore</td>\n",
       "      <td>5</td>\n",
       "      <td>2</td>\n",
       "    </tr>\n",
       "    <tr>\n",
       "      <th>2</th>\n",
       "      <td>A Dananjaya</td>\n",
       "      <td>0.000</td>\n",
       "      <td>80.000</td>\n",
       "      <td>0.000</td>\n",
       "      <td>11.750</td>\n",
       "      <td>0.00</td>\n",
       "      <td>Mumbai Indians</td>\n",
       "      <td>3</td>\n",
       "      <td>6</td>\n",
       "    </tr>\n",
       "    <tr>\n",
       "      <th>3</th>\n",
       "      <td>A Mishra</td>\n",
       "      <td>15.375</td>\n",
       "      <td>65.075</td>\n",
       "      <td>26.825</td>\n",
       "      <td>7.545</td>\n",
       "      <td>21.20</td>\n",
       "      <td>Delhi Capitals</td>\n",
       "      <td>3</td>\n",
       "      <td>2</td>\n",
       "    </tr>\n",
       "    <tr>\n",
       "      <th>4</th>\n",
       "      <td>A Nehra</td>\n",
       "      <td>0.000</td>\n",
       "      <td>50.000</td>\n",
       "      <td>23.365</td>\n",
       "      <td>8.475</td>\n",
       "      <td>16.55</td>\n",
       "      <td>Sunrisers Hyderabad</td>\n",
       "      <td>8</td>\n",
       "      <td>11</td>\n",
       "    </tr>\n",
       "  </tbody>\n",
       "</table>\n",
       "</div>"
      ],
      "text/plain": [
       "           Player  Batting Average  Batting Strike Rate  Bowling Average  \\\n",
       "0  A Ashish Reddy           23.500              162.060           39.000   \n",
       "1     A Choudhary           25.000              125.000           28.800   \n",
       "2     A Dananjaya            0.000               80.000            0.000   \n",
       "3        A Mishra           15.375               65.075           26.825   \n",
       "4         A Nehra            0.000               50.000           23.365   \n",
       "\n",
       "   Bowling Economy Rate  Bowling Strike Rate                         Team  \\\n",
       "0                10.170                23.00          Sunrisers Hyderabad   \n",
       "1                 8.550                20.20  Royal Challengers Bangalore   \n",
       "2                11.750                 0.00               Mumbai Indians   \n",
       "3                 7.545                21.20               Delhi Capitals   \n",
       "4                 8.475                16.55          Sunrisers Hyderabad   \n",
       "\n",
       "   Batting Cluster  Bowling Cluster  \n",
       "0               11               10  \n",
       "1                5                2  \n",
       "2                3                6  \n",
       "3                3                2  \n",
       "4                8               11  "
      ]
     },
     "execution_count": 42,
     "metadata": {},
     "output_type": "execute_result"
    }
   ],
   "source": [
    "playerData_with_clusters['Bowling Cluster'] = identified_bowling_clusters\n",
    "playerData_with_clusters.head()"
   ]
  },
  {
   "cell_type": "code",
   "execution_count": 43,
   "metadata": {},
   "outputs": [
    {
     "data": {
      "text/plain": [
       "0     78\n",
       "2     28\n",
       "11    27\n",
       "10    26\n",
       "6     17\n",
       "5     15\n",
       "7     11\n",
       "9     10\n",
       "14     9\n",
       "12     8\n",
       "1      6\n",
       "8      2\n",
       "3      2\n",
       "13     1\n",
       "4      1\n",
       "Name: Bowling Cluster, dtype: int64"
      ]
     },
     "execution_count": 43,
     "metadata": {},
     "output_type": "execute_result"
    }
   ],
   "source": [
    "playerData_with_clusters['Bowling Cluster'].value_counts()"
   ]
  },
  {
   "cell_type": "code",
   "execution_count": 44,
   "metadata": {},
   "outputs": [
    {
     "name": "stderr",
     "output_type": "stream",
     "text": [
      "<ipython-input-44-0ca1270fe94b>:7: SettingWithCopyWarning: \n",
      "A value is trying to be set on a copy of a slice from a DataFrame\n",
      "\n",
      "See the caveats in the documentation: https://pandas.pydata.org/pandas-docs/stable/user_guide/indexing.html#returning-a-view-versus-a-copy\n",
      "  playerIntData['batsman cluster'][i] = playerData_with_clusters['Batting Cluster'][j]\n"
     ]
    },
    {
     "data": {
      "text/html": [
       "<div>\n",
       "<style scoped>\n",
       "    .dataframe tbody tr th:only-of-type {\n",
       "        vertical-align: middle;\n",
       "    }\n",
       "\n",
       "    .dataframe tbody tr th {\n",
       "        vertical-align: top;\n",
       "    }\n",
       "\n",
       "    .dataframe thead th {\n",
       "        text-align: right;\n",
       "    }\n",
       "</style>\n",
       "<table border=\"1\" class=\"dataframe\">\n",
       "  <thead>\n",
       "    <tr style=\"text-align: right;\">\n",
       "      <th></th>\n",
       "      <th>inning</th>\n",
       "      <th>batting_team</th>\n",
       "      <th>bowling_team</th>\n",
       "      <th>over</th>\n",
       "      <th>ball</th>\n",
       "      <th>batsman</th>\n",
       "      <th>non_striker</th>\n",
       "      <th>batsman strike rate</th>\n",
       "      <th>batsman average</th>\n",
       "      <th>bowler</th>\n",
       "      <th>bowler strike rate</th>\n",
       "      <th>bowler average</th>\n",
       "      <th>bowler economy rate</th>\n",
       "      <th>total_runs</th>\n",
       "      <th>player_dismissed</th>\n",
       "      <th>batsman cluster</th>\n",
       "    </tr>\n",
       "  </thead>\n",
       "  <tbody>\n",
       "    <tr>\n",
       "      <th>0</th>\n",
       "      <td>1</td>\n",
       "      <td>Sunrisers Hyderabad</td>\n",
       "      <td>Royal Challengers Bangalore</td>\n",
       "      <td>1</td>\n",
       "      <td>1</td>\n",
       "      <td>DA Warner</td>\n",
       "      <td>S Dhawan</td>\n",
       "      <td>145.696667</td>\n",
       "      <td>62.68</td>\n",
       "      <td>TS Mills</td>\n",
       "      <td>21.4</td>\n",
       "      <td>30.6</td>\n",
       "      <td>8.57</td>\n",
       "      <td>0</td>\n",
       "      <td>0</td>\n",
       "      <td>9.0</td>\n",
       "    </tr>\n",
       "    <tr>\n",
       "      <th>1</th>\n",
       "      <td>1</td>\n",
       "      <td>Sunrisers Hyderabad</td>\n",
       "      <td>Royal Challengers Bangalore</td>\n",
       "      <td>1</td>\n",
       "      <td>2</td>\n",
       "      <td>DA Warner</td>\n",
       "      <td>S Dhawan</td>\n",
       "      <td>145.696667</td>\n",
       "      <td>62.68</td>\n",
       "      <td>TS Mills</td>\n",
       "      <td>21.4</td>\n",
       "      <td>30.6</td>\n",
       "      <td>8.57</td>\n",
       "      <td>0</td>\n",
       "      <td>0</td>\n",
       "      <td>9.0</td>\n",
       "    </tr>\n",
       "    <tr>\n",
       "      <th>2</th>\n",
       "      <td>1</td>\n",
       "      <td>Sunrisers Hyderabad</td>\n",
       "      <td>Royal Challengers Bangalore</td>\n",
       "      <td>1</td>\n",
       "      <td>3</td>\n",
       "      <td>DA Warner</td>\n",
       "      <td>S Dhawan</td>\n",
       "      <td>145.696667</td>\n",
       "      <td>62.68</td>\n",
       "      <td>TS Mills</td>\n",
       "      <td>21.4</td>\n",
       "      <td>30.6</td>\n",
       "      <td>8.57</td>\n",
       "      <td>4</td>\n",
       "      <td>0</td>\n",
       "      <td>9.0</td>\n",
       "    </tr>\n",
       "    <tr>\n",
       "      <th>3</th>\n",
       "      <td>1</td>\n",
       "      <td>Sunrisers Hyderabad</td>\n",
       "      <td>Royal Challengers Bangalore</td>\n",
       "      <td>1</td>\n",
       "      <td>4</td>\n",
       "      <td>DA Warner</td>\n",
       "      <td>S Dhawan</td>\n",
       "      <td>145.696667</td>\n",
       "      <td>62.68</td>\n",
       "      <td>TS Mills</td>\n",
       "      <td>21.4</td>\n",
       "      <td>30.6</td>\n",
       "      <td>8.57</td>\n",
       "      <td>0</td>\n",
       "      <td>0</td>\n",
       "      <td>9.0</td>\n",
       "    </tr>\n",
       "    <tr>\n",
       "      <th>4</th>\n",
       "      <td>1</td>\n",
       "      <td>Sunrisers Hyderabad</td>\n",
       "      <td>Royal Challengers Bangalore</td>\n",
       "      <td>1</td>\n",
       "      <td>5</td>\n",
       "      <td>DA Warner</td>\n",
       "      <td>S Dhawan</td>\n",
       "      <td>145.696667</td>\n",
       "      <td>62.68</td>\n",
       "      <td>TS Mills</td>\n",
       "      <td>21.4</td>\n",
       "      <td>30.6</td>\n",
       "      <td>8.57</td>\n",
       "      <td>2</td>\n",
       "      <td>0</td>\n",
       "      <td>9.0</td>\n",
       "    </tr>\n",
       "  </tbody>\n",
       "</table>\n",
       "</div>"
      ],
      "text/plain": [
       "   inning         batting_team                 bowling_team  over  ball  \\\n",
       "0       1  Sunrisers Hyderabad  Royal Challengers Bangalore     1     1   \n",
       "1       1  Sunrisers Hyderabad  Royal Challengers Bangalore     1     2   \n",
       "2       1  Sunrisers Hyderabad  Royal Challengers Bangalore     1     3   \n",
       "3       1  Sunrisers Hyderabad  Royal Challengers Bangalore     1     4   \n",
       "4       1  Sunrisers Hyderabad  Royal Challengers Bangalore     1     5   \n",
       "\n",
       "     batsman non_striker  batsman strike rate  batsman average    bowler  \\\n",
       "0  DA Warner    S Dhawan           145.696667            62.68  TS Mills   \n",
       "1  DA Warner    S Dhawan           145.696667            62.68  TS Mills   \n",
       "2  DA Warner    S Dhawan           145.696667            62.68  TS Mills   \n",
       "3  DA Warner    S Dhawan           145.696667            62.68  TS Mills   \n",
       "4  DA Warner    S Dhawan           145.696667            62.68  TS Mills   \n",
       "\n",
       "   bowler strike rate  bowler average  bowler economy rate  total_runs  \\\n",
       "0                21.4            30.6                 8.57           0   \n",
       "1                21.4            30.6                 8.57           0   \n",
       "2                21.4            30.6                 8.57           4   \n",
       "3                21.4            30.6                 8.57           0   \n",
       "4                21.4            30.6                 8.57           2   \n",
       "\n",
       "   player_dismissed  batsman cluster  \n",
       "0                 0              9.0  \n",
       "1                 0              9.0  \n",
       "2                 0              9.0  \n",
       "3                 0              9.0  \n",
       "4                 0              9.0  "
      ]
     },
     "execution_count": 44,
     "metadata": {},
     "output_type": "execute_result"
    }
   ],
   "source": [
    "# playerIntData.sort_index().sort_index(axis=1)\n",
    "# playerData_with_clusters.sort_index().sort_index(axis=1)\n",
    "playerIntData['batsman cluster']=np.nan\n",
    "for i in range(playerIntData.shape[0]):\n",
    "    for j in range(playerData_with_clusters.shape[0]):\n",
    "        if playerIntData['batsman'][i] == playerData_with_clusters['Player'][j]:\n",
    "            playerIntData['batsman cluster'][i] = playerData_with_clusters['Batting Cluster'][j]\n",
    "            break\n",
    "playerIntData.head()"
   ]
  },
  {
   "cell_type": "code",
   "execution_count": null,
   "metadata": {},
   "outputs": [
    {
     "name": "stderr",
     "output_type": "stream",
     "text": [
      "<ipython-input-45-0bf0b011641d>:7: SettingWithCopyWarning: \n",
      "A value is trying to be set on a copy of a slice from a DataFrame\n",
      "\n",
      "See the caveats in the documentation: https://pandas.pydata.org/pandas-docs/stable/user_guide/indexing.html#returning-a-view-versus-a-copy\n",
      "  playerIntData['bowler cluster'][i] = playerData_with_clusters['Bowling Cluster'][j]\n"
     ]
    }
   ],
   "source": [
    "# playerIntData.sort_index().sort_index(axis=1)\n",
    "# playerData_with_clusters.sort_index().sort_index(axis=1)\n",
    "playerIntData['bowler cluster']=np.nan\n",
    "for i in range(playerIntData.shape[0]):\n",
    "    for j in range(playerData_with_clusters.shape[0]):\n",
    "        if playerIntData['bowler'][i] == playerData_with_clusters['Player'][j]:\n",
    "            playerIntData['bowler cluster'][i] = playerData_with_clusters['Bowling Cluster'][j]\n",
    "            break\n",
    "playerIntData.head()"
   ]
  },
  {
   "cell_type": "code",
   "execution_count": null,
   "metadata": {},
   "outputs": [],
   "source": [
    "dataset = playerIntData.drop(['batsman','non_striker','batsman strike rate','batsman average','bowler','bowler strike rate','bowler average','bowler economy rate'],axis=1)\n",
    "dataset.head()"
   ]
  },
  {
   "cell_type": "code",
   "execution_count": null,
   "metadata": {},
   "outputs": [],
   "source": [
    "dataset=pd.get_dummies(dataset,columns=['batting_team','bowling_team'])\n",
    "dataset.head()"
   ]
  },
  {
   "cell_type": "code",
   "execution_count": null,
   "metadata": {
    "scrolled": true
   },
   "outputs": [],
   "source": [
    "dataset.describe()"
   ]
  },
  {
   "cell_type": "code",
   "execution_count": null,
   "metadata": {},
   "outputs": [],
   "source": [
    "dataset = dataset.dropna(axis=0)"
   ]
  },
  {
   "cell_type": "code",
   "execution_count": null,
   "metadata": {},
   "outputs": [],
   "source": [
    "dataset.columns"
   ]
  },
  {
   "cell_type": "code",
   "execution_count": null,
   "metadata": {},
   "outputs": [],
   "source": [
    "from sklearn.model_selection import train_test_split\n",
    "\n",
    "X = dataset[['inning', 'over','ball',\n",
    "       'batsman cluster', 'bowler cluster']]\n",
    "y = dataset['total_runs']\n",
    "\n",
    "X_train, X_test, y_train, y_test = train_test_split(X, y, test_size=0.3, shuffle=False)"
   ]
  },
  {
   "cell_type": "code",
   "execution_count": null,
   "metadata": {},
   "outputs": [],
   "source": [
    "from sklearn.ensemble import RandomForestClassifier\n",
    "\n",
    "clf = RandomForestClassifier(n_estimators=100)\n",
    "\n",
    "clf.fit(X_train,y_train)\n",
    "\n",
    "y_pred = clf.predict(X_test)"
   ]
  },
  {
   "cell_type": "code",
   "execution_count": null,
   "metadata": {},
   "outputs": [],
   "source": [
    "y_pred"
   ]
  },
  {
   "cell_type": "code",
   "execution_count": null,
   "metadata": {},
   "outputs": [],
   "source": [
    "pred_df = pd.DataFrame(y_pred)"
   ]
  },
  {
   "cell_type": "code",
   "execution_count": null,
   "metadata": {},
   "outputs": [],
   "source": [
    "from sklearn import metrics\n",
    "\n",
    "print(\"Accuracy:\",metrics.accuracy_score(y_test, y_pred))"
   ]
  },
  {
   "cell_type": "code",
   "execution_count": null,
   "metadata": {},
   "outputs": [],
   "source": [
    "feature_imp = pd.Series(clf.feature_importances_,index=X_train.columns).sort_values(ascending=False)\n",
    "feature_imp"
   ]
  },
  {
   "cell_type": "code",
   "execution_count": null,
   "metadata": {},
   "outputs": [],
   "source": [
    "import matplotlib.pyplot as plt\n",
    "import seaborn as sns\n",
    "%matplotlib inline\n",
    "# Creating a bar plot\n",
    "sns.barplot(x=feature_imp, y=feature_imp.index)\n",
    "# Add labels to your graph\n",
    "plt.xlabel('Feature Importance Score')\n",
    "plt.ylabel('Features')\n",
    "plt.title(\"Visualizing Important Features\")\n",
    "plt.legend()\n",
    "plt.show()"
   ]
  },
  {
   "cell_type": "code",
   "execution_count": null,
   "metadata": {},
   "outputs": [],
   "source": [
    "dataset.player_dismissed.value_counts()"
   ]
  },
  {
   "cell_type": "code",
   "execution_count": null,
   "metadata": {},
   "outputs": [],
   "source": [
    "player_dismissed_data = dataset.copy()"
   ]
  },
  {
   "cell_type": "code",
   "execution_count": null,
   "metadata": {},
   "outputs": [],
   "source": [
    "datasetV2 = player_dismissed_data[player_dismissed_data['player_dismissed']==0].sample(n=3307)"
   ]
  },
  {
   "cell_type": "code",
   "execution_count": null,
   "metadata": {},
   "outputs": [],
   "source": [
    "datasetV2 = datasetV2.append(player_dismissed_data[player_dismissed_data['player_dismissed']==1])"
   ]
  },
  {
   "cell_type": "code",
   "execution_count": null,
   "metadata": {},
   "outputs": [],
   "source": [
    "datasetV2.player_dismissed.value_counts()"
   ]
  },
  {
   "cell_type": "code",
   "execution_count": null,
   "metadata": {},
   "outputs": [],
   "source": [
    "from sklearn.model_selection import train_test_split\n",
    "\n",
    "X1 = dataset[['inning', 'over','ball',\n",
    "       'batsman cluster', 'bowler cluster']]\n",
    "y1 = dataset['player_dismissed']\n",
    "\n",
    "X_train1, X_test1, y_train1, y_test1 = train_test_split(X1, y1, test_size=0.3, shuffle=True)"
   ]
  },
  {
   "cell_type": "code",
   "execution_count": null,
   "metadata": {},
   "outputs": [],
   "source": [
    "from sklearn.ensemble import RandomForestClassifier\n",
    "\n",
    "clf1 = RandomForestClassifier(n_estimators=100)\n",
    "\n",
    "clf1.fit(X_train1,y_train1)\n",
    "\n",
    "y_pred1 = clf1.predict(X_test1)"
   ]
  },
  {
   "cell_type": "code",
   "execution_count": null,
   "metadata": {},
   "outputs": [],
   "source": [
    "from sklearn import metrics\n",
    "\n",
    "print(\"Accuracy:\",metrics.accuracy_score(y_test1, y_pred1))"
   ]
  },
  {
   "cell_type": "code",
   "execution_count": null,
   "metadata": {},
   "outputs": [],
   "source": [
    "feature_imp1 = pd.Series(clf1.feature_importances_,index=X_train.columns).sort_values(ascending=False)\n",
    "feature_imp1"
   ]
  },
  {
   "cell_type": "code",
   "execution_count": null,
   "metadata": {},
   "outputs": [],
   "source": [
    "import matplotlib.pyplot as plt\n",
    "import seaborn as sns\n",
    "%matplotlib inline\n",
    "# Creating a bar plot\n",
    "sns.barplot(x=feature_imp1, y=feature_imp1.index)\n",
    "# Add labels to your graph\n",
    "plt.xlabel('Feature Importance Score')\n",
    "plt.ylabel('Features')\n",
    "plt.title(\"Visualizing Important Features\")\n",
    "plt.legend()\n",
    "plt.show()"
   ]
  },
  {
   "cell_type": "code",
   "execution_count": null,
   "metadata": {},
   "outputs": [],
   "source": [
    "team1 = ['RG Sharma','E Lewis','SA Yadav','Ishan Kishan','KA Pollard','HH Pandya','KH Pandya','J Yadav','MJ McClenaghan','SL Malinga','JJ Bumrah']\n",
    "team2 = ['S Dhawan','JJ Roy','SS Iyer','RR Pant','R Tewatia','CH Morris','AR Patel','HV Patel','I Sharma','PJ Cummins','K Rabada']\n",
    "batClustT1={}\n",
    "bowlClustT1={}\n",
    "batClustT2={}\n",
    "bowlClustT2={}\n",
    "for i in range(11):\n",
    "    for j in range(playerData_with_clusters.shape[0]):\n",
    "        if team1[i]==playerData_with_clusters['Player'][j]:\n",
    "            batClustT1[team1[i]]=playerData_with_clusters['Batting Cluster'][j]\n",
    "            bowlClustT1[team1[i]]=playerData_with_clusters['Bowling Cluster'][j]\n",
    "        if team2[i]==playerData_with_clusters['Player'][j]:\n",
    "            batClustT2[team2[i]]=playerData_with_clusters['Batting Cluster'][j]\n",
    "            bowlClustT2[team2[i]]=playerData_with_clusters['Bowling Cluster'][j]\n",
    "\n",
    "team1BatClust=list(batClustT1.values())\n",
    "team2BatClust=list(batClustT2.values())\n",
    "team1BowlClust=list(bowlClustT1.values())\n",
    "team2BowlClust=list(bowlClustT2.values())"
   ]
  },
  {
   "cell_type": "code",
   "execution_count": null,
   "metadata": {},
   "outputs": [],
   "source": [
    "overs = 1\n",
    "balls = 1\n",
    "runs=0\n",
    "wickets = 0\n",
    "innings=1\n",
    "indexOfBatsmanOnStrike=0\n",
    "indexOfNonStriker = 1\n",
    "indexOfWicket = 1\n",
    "indexOfBowler=-1\n",
    "print(\"overs\",\"balls\",\"runs\",\"total runs\",\"wickets\",\"total wickets\",sep=\" |\")\n",
    "while overs<=20 and wickets<=10:\n",
    "    while balls<=6 and wickets<=10:\n",
    "        arr = np.array([[innings,overs,balls,team1BatClust[indexOfBatsmanOnStrike],team2BowlClust[indexOfBowler]]])\n",
    "        runs_pred = clf.predict(arr)\n",
    "        wickets_pred = clf1.predict(arr)\n",
    "        runs +=runs_pred[0]\n",
    "        wickets +=wickets_pred[0]\n",
    "        print(overs,balls,runs_pred[0],runs,wickets_pred[0],wickets,sep=\"\\t|\")\n",
    "        if wickets_pred==1:\n",
    "            indexOfWicket+=1\n",
    "            indexOfBatsmanOnStrike = indexOfWicket\n",
    "        if runs_pred == 1 or runs_pred == 3:\n",
    "            temp = indexOfBatsmanOnStrike\n",
    "            indexOfBatsmanOnStrike=indexOfNonStriker\n",
    "            indexOfNonStriker=temp\n",
    "        balls+=1\n",
    "    temp = indexOfBatsmanOnStrike\n",
    "    indexOfBatsmanOnStrike=indexOfNonStriker\n",
    "    indexOfNonStriker=temp\n",
    "    overs+=1\n",
    "    balls=1\n",
    "    indexOfBowler-=1\n",
    "    if indexOfBowler==-6:\n",
    "        indexOfBowler=-1"
   ]
  },
  {
   "cell_type": "code",
   "execution_count": null,
   "metadata": {},
   "outputs": [],
   "source": [
    "overs = 1\n",
    "balls = 1\n",
    "runs=0\n",
    "wickets = 0\n",
    "innings=1\n",
    "indexOfBatsmanOnStrike=0\n",
    "indexOfNonStriker = 1\n",
    "indexOfWicket = 1\n",
    "indexOfBowler=-1\n",
    "print(\"overs\",\"balls\",\"runs\",\"total runs\",\"wickets\",\"total wickets\",sep=\" |\")\n",
    "while overs<=20 and wickets<=10:\n",
    "    while balls<=6 and wickets<=10:\n",
    "        arr = np.array([[innings,overs,balls,team2BatClust[indexOfBatsmanOnStrike],team1BowlClust[indexOfBowler]]])\n",
    "        runs_pred = clf.predict(arr)\n",
    "        wickets_pred = clf1.predict(arr)\n",
    "        runs +=runs_pred[0]\n",
    "        wickets +=wickets_pred[0]\n",
    "        print(overs,balls,runs_pred[0],runs,wickets_pred[0],wickets,sep=\"\\t|\")\n",
    "        if wickets_pred==1:\n",
    "            indexOfWicket+=1\n",
    "            indexOfBatsmanOnStrike = indexOfWicket\n",
    "        if runs_pred == 1 or runs_pred == 3:\n",
    "            temp = indexOfBatsmanOnStrike\n",
    "            indexOfBatsmanOnStrike=indexOfNonStriker\n",
    "            indexOfNonStriker=temp\n",
    "        balls+=1\n",
    "    temp = indexOfBatsmanOnStrike\n",
    "    indexOfBatsmanOnStrike=indexOfNonStriker\n",
    "    indexOfNonStriker=temp\n",
    "    overs+=1\n",
    "    balls=1\n",
    "    indexOfBowler-=1\n",
    "    if indexOfBowler==-6:\n",
    "        indexOfBowler=-1"
   ]
  },
  {
   "cell_type": "code",
   "execution_count": null,
   "metadata": {},
   "outputs": [],
   "source": []
  }
 ],
 "metadata": {
  "kernelspec": {
   "display_name": "Python 3",
   "language": "python",
   "name": "python3"
  },
  "language_info": {
   "codemirror_mode": {
    "name": "ipython",
    "version": 3
   },
   "file_extension": ".py",
   "mimetype": "text/x-python",
   "name": "python",
   "nbconvert_exporter": "python",
   "pygments_lexer": "ipython3",
   "version": "3.8.7"
  }
 },
 "nbformat": 4,
 "nbformat_minor": 4
}
